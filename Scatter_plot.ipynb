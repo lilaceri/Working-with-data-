{
  "nbformat": 4,
  "nbformat_minor": 0,
  "metadata": {
    "colab": {
      "name": "Scatter plot.ipynb",
      "provenance": [],
      "authorship_tag": "ABX9TyMJd2QhlclI0fzVCX6Cd1ry",
      "include_colab_link": true
    },
    "kernelspec": {
      "name": "python3",
      "display_name": "Python 3"
    },
    "language_info": {
      "name": "python"
    }
  },
  "cells": [
    {
      "cell_type": "markdown",
      "metadata": {
        "id": "view-in-github",
        "colab_type": "text"
      },
      "source": [
        "<a href=\"https://colab.research.google.com/github/lilaceri/Working-with-data-/blob/main/Scatter_plot.ipynb\" target=\"_parent\"><img src=\"https://colab.research.google.com/assets/colab-badge.svg\" alt=\"Open In Colab\"/></a>"
      ]
    },
    {
      "cell_type": "markdown",
      "metadata": {
        "id": "03MebWlm9drf"
      },
      "source": [
        "# Creating a scatter plot\n",
        "---\n",
        "\n",
        "To create a scatterplot we need to use a new package called **matplotlib** \n",
        "\n",
        "`import matplotlib.pyplot as plt`\n",
        "\n",
        "Matplotlib allows you to create many different types of charts, but to create a scatter plot you can use:\n",
        "\n",
        "`plt.scatter(x,y)`\n",
        "\n",
        "* replace x with the variable name for the column or array you want along the x axis\n",
        "* replace y with the variable name for the column or array you want along the y axis \n",
        "\n",
        "To add labels, colours etc:\n",
        "\n",
        "`plt.xlabel(\"insert label here\")` - label x axis   \n",
        "`plt.ylabel(\"insert label here\")` - label y axis   \n",
        "\n",
        "After all your code to create the graph write:  \n",
        "`plt.show()`\n"
      ]
    },
    {
      "cell_type": "code",
      "metadata": {
        "colab": {
          "base_uri": "https://localhost:8080/",
          "height": 401
        },
        "id": "5cqFVLbhCDlW",
        "outputId": "fb577713-f31a-47bb-fa08-12cdd9635253"
      },
      "source": [
        "# ignore this ###\n",
        "from numpy import random\n",
        "import numpy as np\n",
        "x = random.randint(1000, size=(100))\n",
        "y = random.randint(1000, size=(100))\n",
        "\n",
        "#EXAMPLE:\n",
        "\n",
        "import matplotlib.pyplot as plt\n",
        "\n",
        "plt.scatter(x,y)\n",
        "plt.show()\n",
        "\n",
        "x\n",
        "\n"
      ],
      "execution_count": 20,
      "outputs": [
        {
          "output_type": "display_data",
          "data": {
            "image/png": "[encoded data removed]",
            "text/plain": [
              "<Figure size 432x288 with 1 Axes>"
            ]
          },
          "metadata": {
            "needs_background": "light"
          }
        },
        {
          "output_type": "execute_result",
          "data": {
            "text/plain": [
              "array([707, 850, 516, 528, 183, 753, 986, 119, 127, 374, 576, 842, 985,\n",
              "       764, 603, 961, 181, 278, 564, 985, 176, 731, 816, 541, 281, 693,\n",
              "       633, 670, 312, 247, 361, 363, 474, 609, 276, 825, 286, 172,  29,\n",
              "       447, 708, 993, 685, 984, 288,  28, 342, 293, 562, 843, 502, 670,\n",
              "       189, 581, 849, 172, 250, 549, 379, 160, 451, 489, 344,  13, 958,\n",
              "       906, 195, 994, 746, 719, 289, 339, 939, 590,  14, 925, 829,  77,\n",
              "       593, 477, 815, 727, 894, 228, 259, 336, 771, 482, 980, 884,  18,\n",
              "       363, 956, 311, 262, 626, 847, 799, 588, 968])"
            ]
          },
          "metadata": {},
          "execution_count": 20
        }
      ]
    }
  ]
}