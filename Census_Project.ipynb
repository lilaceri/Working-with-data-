{
  "nbformat": 4,
  "nbformat_minor": 0,
  "metadata": {
    "colab": {
      "name": "Census-Project.ipynb",
      "provenance": [],
      "collapsed_sections": [],
      "include_colab_link": true
    },
    "kernelspec": {
      "name": "python3",
      "display_name": "Python 3"
    },
    "language_info": {
      "name": "python"
    }
  },
  "cells": [
    {
      "cell_type": "markdown",
      "metadata": {
        "id": "view-in-github",
        "colab_type": "text"
      },
      "source": [
        "<a href=\"https://colab.research.google.com/github/lilaceri/Working-with-data-/blob/main/Census_Project.ipynb\" target=\"_parent\"><img src=\"https://colab.research.google.com/assets/colab-badge.svg\" alt=\"Open In Colab\"/></a>"
      ]
    },
    {
      "cell_type": "markdown",
      "metadata": {
        "id": "1xV8WhRGFMdk"
      },
      "source": [
        "# Census Data\n",
        "\n",
        "adult.data.csv is a dataset of demographic data that was extracted from the 1994 Census database.  \n",
        "\n",
        "Here is a sample of what the data looks like:\n",
        "\n",
        "|    |   age | workclass        |   fnlwgt | education   |   education-num | marital-status     | occupation        | relationship   | race   | sex    |   capital-gain |   capital-loss |   hours-per-week | native-country   | salary   |\n",
        "|---:|------:|:-----------------|---------:|:------------|----------------:|:-------------------|:------------------|:---------------|:-------|:-------|---------------:|---------------:|-----------------:|:-----------------|:---------|\n",
        "|  0 |    39 | State-gov        |    77516 | Bachelors   |              13 | Never-married      | Adm-clerical      | Not-in-family  | White  | Male   |           2174 |              0 |               40 | United-States    | <=50K    |\n",
        "|  1 |    50 | Self-emp-not-inc |    83311 | Bachelors   |              13 | Married-civ-spouse | Exec-managerial   | Husband        | White  | Male   |              0 |              0 |               13 | United-States    | <=50K    |\n",
        "|  2 |    38 | Private          |   215646 | HS-grad     |               9 | Divorced           | Handlers-cleaners | Not-in-family  | White  | Male   |              0 |              0 |               40 | United-States    | <=50K    |\n",
        "|  3 |    53 | Private          |   234721 | 11th        |               7 | Married-civ-spouse | Handlers-cleaners | Husband        | Black  | Male   |              0 |              0 |               40 | United-States    | <=50K    |\n",
        "|  4 |    28 | Private          |   338409 | Bachelors   |              13 | Married-civ-spouse | Prof-specialty    | Wife           | Black  | Female |              0 |              0 |               40 | Cuba             | <=50K    |\n"
      ]
    },
    {
      "cell_type": "markdown",
      "metadata": {
        "id": "sQScuOndF6eh"
      },
      "source": [
        "# pandas\n",
        "\n",
        "is an open-source library of data structures and functions for  practical, real world data analysis in Python\n",
        "\n",
        "Create an alias to the pandas library and read the data from the census data file."
      ]
    },
    {
      "cell_type": "code",
      "metadata": {
        "colab": {
          "base_uri": "https://localhost:8080/",
          "height": 419
        },
        "id": "eBfa1Z1ZGy3B",
        "outputId": "996c39c3-16ee-47a4-c519-7ec1ee0268c0"
      },
      "source": [
        "import pandas as pd\n",
        "\n",
        "def get_dataframe():\n",
        "    # Read data from file\n",
        "    data_url = \"https://raw.githubusercontent.com/freeCodeCamp/boilerplate-demographic-data-analyzer/master/adult.data.csv\"\n",
        "    df = pd.read_csv(data_url)\n",
        "    return df\n",
        "\n",
        "df = get_dataframe()\n",
        "df"
      ],
      "execution_count": null,
      "outputs": [
        {
          "output_type": "execute_result",
          "data": {
            "text/html": [
              "<div>\n",
              "<style scoped>\n",
              "    .dataframe tbody tr th:only-of-type {\n",
              "        vertical-align: middle;\n",
              "    }\n",
              "\n",
              "    .dataframe tbody tr th {\n",
              "        vertical-align: top;\n",
              "    }\n",
              "\n",
              "    .dataframe thead th {\n",
              "        text-align: right;\n",
              "    }\n",
              "</style>\n",
              "<table border=\"1\" class=\"dataframe\">\n",
              "  <thead>\n",
              "    <tr style=\"text-align: right;\">\n",
              "      <th></th>\n",
              "      <th>age</th>\n",
              "      <th>workclass</th>\n",
              "      <th>fnlwgt</th>\n",
              "      <th>education</th>\n",
              "      <th>education-num</th>\n",
              "      <th>marital-status</th>\n",
              "      <th>occupation</th>\n",
              "      <th>relationship</th>\n",
              "      <th>race</th>\n",
              "      <th>sex</th>\n",
              "      <th>capital-gain</th>\n",
              "      <th>capital-loss</th>\n",
              "      <th>hours-per-week</th>\n",
              "      <th>native-country</th>\n",
              "      <th>salary</th>\n",
              "    </tr>\n",
              "  </thead>\n",
              "  <tbody>\n",
              "    <tr>\n",
              "      <th>0</th>\n",
              "      <td>39</td>\n",
              "      <td>State-gov</td>\n",
              "      <td>77516</td>\n",
              "      <td>Bachelors</td>\n",
              "      <td>13</td>\n",
              "      <td>Never-married</td>\n",
              "      <td>Adm-clerical</td>\n",
              "      <td>Not-in-family</td>\n",
              "      <td>White</td>\n",
              "      <td>Male</td>\n",
              "      <td>2174</td>\n",
              "      <td>0</td>\n",
              "      <td>40</td>\n",
              "      <td>United-States</td>\n",
              "      <td>&lt;=50K</td>\n",
              "    </tr>\n",
              "    <tr>\n",
              "      <th>1</th>\n",
              "      <td>50</td>\n",
              "      <td>Self-emp-not-inc</td>\n",
              "      <td>83311</td>\n",
              "      <td>Bachelors</td>\n",
              "      <td>13</td>\n",
              "      <td>Married-civ-spouse</td>\n",
              "      <td>Exec-managerial</td>\n",
              "      <td>Husband</td>\n",
              "      <td>White</td>\n",
              "      <td>Male</td>\n",
              "      <td>0</td>\n",
              "      <td>0</td>\n",
              "      <td>13</td>\n",
              "      <td>United-States</td>\n",
              "      <td>&lt;=50K</td>\n",
              "    </tr>\n",
              "    <tr>\n",
              "      <th>2</th>\n",
              "      <td>38</td>\n",
              "      <td>Private</td>\n",
              "      <td>215646</td>\n",
              "      <td>HS-grad</td>\n",
              "      <td>9</td>\n",
              "      <td>Divorced</td>\n",
              "      <td>Handlers-cleaners</td>\n",
              "      <td>Not-in-family</td>\n",
              "      <td>White</td>\n",
              "      <td>Male</td>\n",
              "      <td>0</td>\n",
              "      <td>0</td>\n",
              "      <td>40</td>\n",
              "      <td>United-States</td>\n",
              "      <td>&lt;=50K</td>\n",
              "    </tr>\n",
              "    <tr>\n",
              "      <th>3</th>\n",
              "      <td>53</td>\n",
              "      <td>Private</td>\n",
              "      <td>234721</td>\n",
              "      <td>11th</td>\n",
              "      <td>7</td>\n",
              "      <td>Married-civ-spouse</td>\n",
              "      <td>Handlers-cleaners</td>\n",
              "      <td>Husband</td>\n",
              "      <td>Black</td>\n",
              "      <td>Male</td>\n",
              "      <td>0</td>\n",
              "      <td>0</td>\n",
              "      <td>40</td>\n",
              "      <td>United-States</td>\n",
              "      <td>&lt;=50K</td>\n",
              "    </tr>\n",
              "    <tr>\n",
              "      <th>4</th>\n",
              "      <td>28</td>\n",
              "      <td>Private</td>\n",
              "      <td>338409</td>\n",
              "      <td>Bachelors</td>\n",
              "      <td>13</td>\n",
              "      <td>Married-civ-spouse</td>\n",
              "      <td>Prof-specialty</td>\n",
              "      <td>Wife</td>\n",
              "      <td>Black</td>\n",
              "      <td>Female</td>\n",
              "      <td>0</td>\n",
              "      <td>0</td>\n",
              "      <td>40</td>\n",
              "      <td>Cuba</td>\n",
              "      <td>&lt;=50K</td>\n",
              "    </tr>\n",
              "    <tr>\n",
              "      <th>...</th>\n",
              "      <td>...</td>\n",
              "      <td>...</td>\n",
              "      <td>...</td>\n",
              "      <td>...</td>\n",
              "      <td>...</td>\n",
              "      <td>...</td>\n",
              "      <td>...</td>\n",
              "      <td>...</td>\n",
              "      <td>...</td>\n",
              "      <td>...</td>\n",
              "      <td>...</td>\n",
              "      <td>...</td>\n",
              "      <td>...</td>\n",
              "      <td>...</td>\n",
              "      <td>...</td>\n",
              "    </tr>\n",
              "    <tr>\n",
              "      <th>32556</th>\n",
              "      <td>27</td>\n",
              "      <td>Private</td>\n",
              "      <td>257302</td>\n",
              "      <td>Assoc-acdm</td>\n",
              "      <td>12</td>\n",
              "      <td>Married-civ-spouse</td>\n",
              "      <td>Tech-support</td>\n",
              "      <td>Wife</td>\n",
              "      <td>White</td>\n",
              "      <td>Female</td>\n",
              "      <td>0</td>\n",
              "      <td>0</td>\n",
              "      <td>38</td>\n",
              "      <td>United-States</td>\n",
              "      <td>&lt;=50K</td>\n",
              "    </tr>\n",
              "    <tr>\n",
              "      <th>32557</th>\n",
              "      <td>40</td>\n",
              "      <td>Private</td>\n",
              "      <td>154374</td>\n",
              "      <td>HS-grad</td>\n",
              "      <td>9</td>\n",
              "      <td>Married-civ-spouse</td>\n",
              "      <td>Machine-op-inspct</td>\n",
              "      <td>Husband</td>\n",
              "      <td>White</td>\n",
              "      <td>Male</td>\n",
              "      <td>0</td>\n",
              "      <td>0</td>\n",
              "      <td>40</td>\n",
              "      <td>United-States</td>\n",
              "      <td>&gt;50K</td>\n",
              "    </tr>\n",
              "    <tr>\n",
              "      <th>32558</th>\n",
              "      <td>58</td>\n",
              "      <td>Private</td>\n",
              "      <td>151910</td>\n",
              "      <td>HS-grad</td>\n",
              "      <td>9</td>\n",
              "      <td>Widowed</td>\n",
              "      <td>Adm-clerical</td>\n",
              "      <td>Unmarried</td>\n",
              "      <td>White</td>\n",
              "      <td>Female</td>\n",
              "      <td>0</td>\n",
              "      <td>0</td>\n",
              "      <td>40</td>\n",
              "      <td>United-States</td>\n",
              "      <td>&lt;=50K</td>\n",
              "    </tr>\n",
              "    <tr>\n",
              "      <th>32559</th>\n",
              "      <td>22</td>\n",
              "      <td>Private</td>\n",
              "      <td>201490</td>\n",
              "      <td>HS-grad</td>\n",
              "      <td>9</td>\n",
              "      <td>Never-married</td>\n",
              "      <td>Adm-clerical</td>\n",
              "      <td>Own-child</td>\n",
              "      <td>White</td>\n",
              "      <td>Male</td>\n",
              "      <td>0</td>\n",
              "      <td>0</td>\n",
              "      <td>20</td>\n",
              "      <td>United-States</td>\n",
              "      <td>&lt;=50K</td>\n",
              "    </tr>\n",
              "    <tr>\n",
              "      <th>32560</th>\n",
              "      <td>52</td>\n",
              "      <td>Self-emp-inc</td>\n",
              "      <td>287927</td>\n",
              "      <td>HS-grad</td>\n",
              "      <td>9</td>\n",
              "      <td>Married-civ-spouse</td>\n",
              "      <td>Exec-managerial</td>\n",
              "      <td>Wife</td>\n",
              "      <td>White</td>\n",
              "      <td>Female</td>\n",
              "      <td>15024</td>\n",
              "      <td>0</td>\n",
              "      <td>40</td>\n",
              "      <td>United-States</td>\n",
              "      <td>&gt;50K</td>\n",
              "    </tr>\n",
              "  </tbody>\n",
              "</table>\n",
              "<p>32561 rows × 15 columns</p>\n",
              "</div>"
            ],
            "text/plain": [
              "       age         workclass  fnlwgt  ... hours-per-week  native-country salary\n",
              "0       39         State-gov   77516  ...             40   United-States  <=50K\n",
              "1       50  Self-emp-not-inc   83311  ...             13   United-States  <=50K\n",
              "2       38           Private  215646  ...             40   United-States  <=50K\n",
              "3       53           Private  234721  ...             40   United-States  <=50K\n",
              "4       28           Private  338409  ...             40            Cuba  <=50K\n",
              "...    ...               ...     ...  ...            ...             ...    ...\n",
              "32556   27           Private  257302  ...             38   United-States  <=50K\n",
              "32557   40           Private  154374  ...             40   United-States   >50K\n",
              "32558   58           Private  151910  ...             40   United-States  <=50K\n",
              "32559   22           Private  201490  ...             20   United-States  <=50K\n",
              "32560   52      Self-emp-inc  287927  ...             40   United-States   >50K\n",
              "\n",
              "[32561 rows x 15 columns]"
            ]
          },
          "metadata": {
            "tags": []
          },
          "execution_count": 2
        }
      ]
    },
    {
      "cell_type": "markdown",
      "metadata": {
        "id": "4mJq4QshG_Hr"
      },
      "source": [
        "---\n",
        "Find the number of each race represented in the dataset.\n",
        "\n",
        "*Hint: This should be a Pandas series with race names as the index labels.*"
      ]
    },
    {
      "cell_type": "code",
      "metadata": {
        "id": "9Mln4oGqHnq0"
      },
      "source": [
        "def get_race_count():\n",
        "  race_count = pd.Series(data=df[\"race\"].value_counts(), index=df[\"race\"].unique())\n",
        "  return race_count\n",
        "\n",
        "get_race_count()"
      ],
      "execution_count": null,
      "outputs": []
    },
    {
      "cell_type": "markdown",
      "metadata": {
        "id": "-duOz3UVKsBG"
      },
      "source": [
        "---\n",
        "Find the average age of men"
      ]
    },
    {
      "cell_type": "code",
      "metadata": {
        "id": "KKEN-OllLBfd"
      },
      "source": [
        "def find_average_age_men():\n",
        "    men = df.loc[df[\"sex\"]==\"Male\"]\n",
        "    return round(men[\"age\"].mean(),1)\n",
        "\n",
        "find_average_age_men()"
      ],
      "execution_count": null,
      "outputs": []
    },
    {
      "cell_type": "markdown",
      "metadata": {
        "id": "no13KncxLCEV"
      },
      "source": [
        "---\n",
        "Find the percentage of people who have a Bachelor's degree."
      ]
    },
    {
      "cell_type": "code",
      "metadata": {
        "colab": {
          "base_uri": "https://localhost:8080/"
        },
        "id": "9p7MgBycMCcz",
        "outputId": "939e25a2-e25d-4461-a6ca-452d73c18539"
      },
      "source": [
        "def find_percentage(frame, col, val):\n",
        "  quantity = frame.loc[frame[col]==val]\n",
        "  percentage = round(quantity[col].count() / frame[col].count() * 100, 1)\n",
        "  return percentage\n",
        "\n",
        "find_percentage(df, \"education\", \"HS-grad\")"
      ],
      "execution_count": null,
      "outputs": [
        {
          "output_type": "execute_result",
          "data": {
            "text/plain": [
              "32.3"
            ]
          },
          "metadata": {
            "tags": []
          },
          "execution_count": 39
        }
      ]
    },
    {
      "cell_type": "markdown",
      "metadata": {
        "id": "yvqy30IwMCzN"
      },
      "source": [
        "---\n",
        "Find the percentage of people with advanced education (`Bachelors`, `Masters`, or `Doctorate`) who make more than 50K"
      ]
    },
    {
      "cell_type": "code",
      "metadata": {
        "colab": {
          "base_uri": "https://localhost:8080/"
        },
        "id": "Ci_HlME3NLow",
        "outputId": "ee7f20dd-5fd0-4380-ff06-d22eac830205"
      },
      "source": [
        "def percentage_higher_rich():\n",
        "  higher_education = df.loc[(df[\"education\"].isin([\"Bachelors\",\"Masters\",\"Doctorate\"]))]\n",
        "  higher_ed_salary = df.loc[(df[\"education\"].isin([\"Bachelors\",\"Masters\",\"Doctorate\"]))&(df[\"salary\"]==\">50K\")]\n",
        "  higher_education_rich = round(higher_ed_salary[\"education\"].count() / higher_education[\"education\"].count() * 100,1)\n",
        "  return higher_education_rich\n",
        "\n",
        "percentage_higher_rich()"
      ],
      "execution_count": null,
      "outputs": [
        {
          "output_type": "execute_result",
          "data": {
            "text/plain": [
              "46.5"
            ]
          },
          "metadata": {
            "tags": []
          },
          "execution_count": 20
        }
      ]
    },
    {
      "cell_type": "markdown",
      "metadata": {
        "id": "ixFwc2eWNLzi"
      },
      "source": [
        "---\n",
        "Find the percentage of people without advanced education who make more than 50K "
      ]
    },
    {
      "cell_type": "code",
      "metadata": {
        "id": "9u2_1jENNzEf"
      },
      "source": [
        "def percentage_lower_rich():\n",
        "  lower_education = df.loc[(~df[\"education\"].isin([\"Bachelors\",\"Masters\",\"Doctorate\"]))]\n",
        "  lower_ed_salary = df.loc[(~df[\"education\"].isin([\"Bachelors\",\"Masters\",\"Doctorate\"]))&(df[\"salary\"]==\">50K\")]\n",
        "  lower_education_rich = round(lower_ed_salary[\"education\"].count() / lower_education[\"education\"].count() * 100,1)\n",
        "  return lower_education_rich\n",
        "\n",
        "percentage_lower_rich()"
      ],
      "execution_count": null,
      "outputs": []
    },
    {
      "cell_type": "markdown",
      "metadata": {
        "id": "fvW4K3HvOLId"
      },
      "source": [
        "---\n",
        "Find the minimum number of hours a person works per week (hours-per-week feature) and the percentage of the people who work the minimum number of hours per week have a salary of >50K"
      ]
    },
    {
      "cell_type": "code",
      "metadata": {
        "colab": {
          "base_uri": "https://localhost:8080/"
        },
        "id": "1uH4hAN4Oydq",
        "outputId": "aafc7a39-33b6-423c-df06-6b2b1e27f5fd"
      },
      "source": [
        "def find_percentage_min_hours_rich():\n",
        "    min_work_hours = df[\"hours-per-week\"].min()\n",
        "    num_min_workers = df.loc[(df[\"hours-per-week\"]==min_work_hours)&(df[\"salary\"]=='>50K')]\n",
        "    all_min_workers = df.loc[(df[\"hours-per-week\"]==min_work_hours)]\n",
        "    rich_percentage = num_min_workers[\"hours-per-week\"].count() / all_min_workers[\"hours-per-week\"].count() * 100\n",
        "    return rich_percentage\n",
        "\n",
        "find_percentage_min_hours_rich()"
      ],
      "execution_count": null,
      "outputs": [
        {
          "output_type": "execute_result",
          "data": {
            "text/plain": [
              "10.0"
            ]
          },
          "metadata": {
            "tags": []
          },
          "execution_count": 29
        }
      ]
    },
    {
      "cell_type": "markdown",
      "metadata": {
        "id": "YpTF8t6-OypW"
      },
      "source": [
        "---\n",
        "Find the country with the highest percentage of people who earn >50K"
      ]
    },
    {
      "cell_type": "code",
      "metadata": {
        "colab": {
          "base_uri": "https://localhost:8080/"
        },
        "id": "ilhBQ38qPYse",
        "outputId": "596e5d8b-7678-47de-897a-32d4faa81fe5"
      },
      "source": [
        "def find_highest_rich():\n",
        "  countries = df.loc[df[\"salary\"]==\">50K\"]\n",
        "  rich_count =countries[\"native-country\"].value_counts()\n",
        "  rich_count = rich_count.sort_values(ascending=False)\n",
        "  population = df[\"native-country\"].value_counts()\n",
        "  percentage = rich_count / population * 100\n",
        "  percentage = percentage.sort_values(ascending=False)\n",
        "  highest_earning_country = percentage.head(1).index[0]\n",
        "  highest_earning_country_percentage = round(percentage.head(1).values[0],1)\n",
        "  return highest_earning_country, highest_earning_country_percentage\n",
        "\n",
        "find_highest_rich()"
      ],
      "execution_count": null,
      "outputs": [
        {
          "output_type": "execute_result",
          "data": {
            "text/plain": [
              "('Iran', 41.9)"
            ]
          },
          "metadata": {
            "tags": []
          },
          "execution_count": 24
        }
      ]
    },
    {
      "cell_type": "markdown",
      "metadata": {
        "id": "8t8gw_OQPY48"
      },
      "source": [
        "---\n",
        "Find the most popular occupation for those who earn >50K in a given country"
      ]
    },
    {
      "cell_type": "code",
      "metadata": {
        "colab": {
          "base_uri": "https://localhost:8080/",
          "height": 35
        },
        "id": "Kvu26-G7FI_p",
        "outputId": "17dd38e6-b20c-4ed9-be20-a35773f6763b"
      },
      "source": [
        "def find_top_occupation_rich(country):\n",
        "    india = df.loc[df[\"native-country\"]==country]\n",
        "    in_occupations = india[\"occupation\"].value_counts()\n",
        "    in_occupations = in_occupations.sort_values(ascending=False)\n",
        "    top_IN_occupation = in_occupations.head(1).index[0]\n",
        "    return top_IN_occupation\n",
        "\n",
        "find_top_occupation_rich(\"India\")"
      ],
      "execution_count": null,
      "outputs": [
        {
          "output_type": "execute_result",
          "data": {
            "application/vnd.google.colaboratory.intrinsic+json": {
              "type": "string"
            },
            "text/plain": [
              "'Prof-specialty'"
            ]
          },
          "metadata": {
            "tags": []
          },
          "execution_count": 3
        }
      ]
    },
    {
      "cell_type": "code",
      "metadata": {
        "colab": {
          "base_uri": "https://localhost:8080/"
        },
        "id": "UEehXhT0h8Y_",
        "outputId": "7a1067e5-947a-4173-e10e-0f4499b22ef5"
      },
      "source": [
        "def show_result(x,limit):\n",
        "  while (x < limit):\n",
        "    x+=2\n",
        "  print(x)\n",
        "\n",
        "show_result(1,100)"
      ],
      "execution_count": null,
      "outputs": [
        {
          "output_type": "stream",
          "text": [
            "101\n"
          ],
          "name": "stdout"
        }
      ]
    }
  ]
}