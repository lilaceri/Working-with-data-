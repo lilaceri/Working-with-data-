{
  "nbformat": 4,
  "nbformat_minor": 0,
  "metadata": {
    "colab": {
      "name": "R - Life expectancy",
      "provenance": [],
      "authorship_tag": "ABX9TyOoLEfqthisXfEgCgRy51Z1",
      "include_colab_link": true
    },
    "kernelspec": {
      "name": "ir",
      "display_name": "R"
    },
    "language_info": {
      "name": "R"
    }
  },
  "cells": [
    {
      "cell_type": "markdown",
      "metadata": {
        "id": "view-in-github",
        "colab_type": "text"
      },
      "source": [
        "<a href=\"https://colab.research.google.com/github/lilaceri/Working-with-data-/blob/main/R_Life_expectancy.ipynb\" target=\"_parent\"><img src=\"https://colab.research.google.com/assets/colab-badge.svg\" alt=\"Open In Colab\"/></a>"
      ]
    },
    {
      "cell_type": "markdown",
      "metadata": {
        "id": "rOZdmqh9bNxr"
      },
      "source": [
        "# Predicting Life Expectancy \n",
        "---\n",
        "\n",
        "Using what you learnt in the previous worksheet, you will be performing a multiple linear regression on the life expectancy dataset. You will be using your statistical knowledge to see which (if any) of the variables predict life expectancy.  \n",
        "\n",
        "URL = \"https://raw.githubusercontent.com/lilaceri/Working-with-data-/main/Data%20Sets%20for%20code%20divisio/Life%20Expectancy%20Data.csv\"\n",
        "\n",
        "### **The data in question:**\n",
        "\n",
        "The variables:\n",
        "\n",
        "* Country \n",
        "* Year \n",
        "* Status - developing or developed status\n",
        "* Life expectancy - in age (Target variable or IV)\n",
        "* Adult mortality - Adult Mortality Rates of both sexes (probability of dying between 15 and 60 years per 1000 population)\n",
        "* infant deaths - Number of Infant Deaths per 1000 population\n",
        "* Alcohol - Alcohol, recorded per capita (15+) consumption (in litres of pure alcohol)\n",
        "* Percentage expenditure - Expenditure on health as a percentage of GDP per capita(%)\n",
        "* Hepititis B - Hepatitis B (HepB) immunization coverage among 1-year-olds (%)\n",
        "* Measles - Measles - number of reported cases per 1000 population\n",
        "* BMI - Average Body Mass Index of entire population\n",
        "* Under five deaths - Number of under-five deaths per 1000 population\n",
        "* Polio - Polio immunization coverage among 1-year-olds (%)\n",
        "* Total expenditure - General government expenditure on health as a percentage of total government expenditure (%)\n",
        "* Diphtheria - Diphtheria tetanus toxoid and pertussis immunization coverage among 1-year-olds (%)\n",
        "* Deaths per 1 000 live births HIV/AIDS (0-4 years)\n",
        "* GDP - per capita in USD \n",
        "* Population\n",
        "* thinness 10-19 years - Prevalence of thinness among children and adolescents for Age 10 to 19 (%)\n",
        "* thinness 5-9 years - Prevalence of thinness among children for Age 5 to 9(%)\n",
        "* Income composition - Human Development Index in terms of income composition of resources (index ranging from 0 to 1)\n",
        "* Schooling - Number of years of Schooling(years)"
      ]
    },
    {
      "cell_type": "markdown",
      "metadata": {
        "id": "7yrkzHbka4b4"
      },
      "source": [
        "**Run the cell block below to install and load the necessary packages**"
      ]
    },
    {
      "cell_type": "code",
      "metadata": {
        "id": "UynJ26EfHROz"
      },
      "source": [
        "# this code needs to be run once to install the packages on your system\n",
        "install.packages(\"tidyverse\")\n",
        "install.packages(\"ggplot2\")\n",
        "install.packages(\"fastDummies\")\n",
        "\n",
        "# this code needs to be run to open the packages \n",
        "\n",
        "# tidyverse includes dpylr which includes all the functions such as mutate, select, summarise etc\n",
        "library(\"tidyverse\")\n",
        "\n",
        "# ggplot2 contains all the visualisation tools (similar to matplotlib)\n",
        "library(\"ggplot2\")\n",
        "\n",
        "# fastdummies is for dummy coding\n",
        "library(\"fastDummies\")\n",
        "\n",
        "# displaying in real numbers rather than in scientific form \n",
        "\n",
        "options(scipen = 999)"
      ],
      "execution_count": null,
      "outputs": []
    },
    {
      "cell_type": "markdown",
      "metadata": {
        "id": "URuacy9OmxmO"
      },
      "source": [
        "### Exercise 1 - planning \n",
        "---\n",
        "\n",
        "Make a note of which variable will be the IV and which variables will be used as the DVs\n"
      ]
    },
    {
      "cell_type": "code",
      "metadata": {
        "id": "SKZyPi7wnE8C"
      },
      "source": [
        ""
      ],
      "execution_count": null,
      "outputs": []
    },
    {
      "cell_type": "markdown",
      "metadata": {
        "id": "qrI7jEqgnTuG"
      },
      "source": [
        "### Exercise 2 - read and inspect the data \n",
        "---\n",
        "1. Set the data into a dataframe \n",
        "2. Inspect the data "
      ]
    },
    {
      "cell_type": "code",
      "metadata": {
        "id": "NHrykWKSnkgm"
      },
      "source": [
        ""
      ],
      "execution_count": null,
      "outputs": []
    },
    {
      "cell_type": "markdown",
      "metadata": {
        "id": "4crv5lNynkyo"
      },
      "source": [
        "### Exercise 3 - clean the data \n",
        "---\n",
        "\n",
        "1. Check for NA values\n",
        "2. Remove NA values if necessary "
      ]
    },
    {
      "cell_type": "code",
      "metadata": {
        "id": "VjTpy0VKn_5H"
      },
      "source": [
        ""
      ],
      "execution_count": null,
      "outputs": []
    },
    {
      "cell_type": "markdown",
      "metadata": {
        "id": "NemDOL0NoAxP"
      },
      "source": [
        "### Exercise 4 - dummy code \n",
        "---\n",
        "1. dummy code the `status` variable \n",
        "2. make sure to remove first dummy and old column "
      ]
    },
    {
      "cell_type": "code",
      "metadata": {
        "id": "ftRfUTuroSgG"
      },
      "source": [
        ""
      ],
      "execution_count": null,
      "outputs": []
    },
    {
      "cell_type": "markdown",
      "metadata": {
        "id": "ujb7jzGwoSyD"
      },
      "source": [
        "### Exercise 5 - visualise target variable (IV)\n",
        "---\n",
        "\n",
        "1. Visualise target variable on a histogram\n",
        "2. How does the distribution look?"
      ]
    },
    {
      "cell_type": "code",
      "metadata": {
        "id": "uElyn484opOf"
      },
      "source": [
        ""
      ],
      "execution_count": null,
      "outputs": []
    },
    {
      "cell_type": "markdown",
      "metadata": {
        "id": "GmSILaVlopmK"
      },
      "source": [
        "### Exercise 6 - perform multiple linear regression \n",
        "---\n",
        "\n",
        "1. Run a linear regression to see if your target variables predict life expectancy \n",
        "2. display a summary of the regression "
      ]
    },
    {
      "cell_type": "code",
      "metadata": {
        "id": "4_PwzK9epCcB"
      },
      "source": [
        ""
      ],
      "execution_count": null,
      "outputs": []
    },
    {
      "cell_type": "markdown",
      "metadata": {
        "id": "UOjjbhknpBns"
      },
      "source": [
        "### Exercise 7 - summary of results\n",
        "---\n",
        "Write some comments on your findings\n",
        "* what variables significantly predict life expectancy?\n",
        "* how well do your variables / model account for the variance (change) in life expectancy between countries?\n",
        "* how does the slope (estimates) for each significant variable explain the impact on the IV "
      ]
    },
    {
      "cell_type": "code",
      "metadata": {
        "id": "3iLbsCLDpxX4"
      },
      "source": [
        ""
      ],
      "execution_count": null,
      "outputs": []
    },
    {
      "cell_type": "markdown",
      "metadata": {
        "id": "MupD8m59pyL8"
      },
      "source": [
        "### Exercise 8 - checking assumptions\n",
        "--- \n",
        "\n",
        "Check your model meets assumptions\n",
        "\n",
        "1. check linearity plot\n",
        "2. check Q-Q plot \n",
        "3. Does it meet assumptions?"
      ]
    },
    {
      "cell_type": "code",
      "metadata": {
        "id": "NIVKvXesqQho"
      },
      "source": [
        ""
      ],
      "execution_count": null,
      "outputs": []
    },
    {
      "cell_type": "markdown",
      "metadata": {
        "id": "xdH7PhyFrNmk"
      },
      "source": [
        "### Exercise 9 - contextualise \n",
        "--- \n",
        "\n",
        "Using the results from your analysis, write a few sentences which gives the data meaning \n",
        "* tell a story with the data\n",
        "* what does this tell us about life expectancy?\n",
        "* what makes the biggest impact on life expectancy?"
      ]
    },
    {
      "cell_type": "code",
      "metadata": {
        "id": "FUEbDthIsNaW"
      },
      "source": [
        ""
      ],
      "execution_count": null,
      "outputs": []
    },
    {
      "cell_type": "markdown",
      "metadata": {
        "id": "y-FWYN-5sMvR"
      },
      "source": [
        "### Exercise 10 - Explore the data further\n",
        "---\n",
        "\n",
        "Try running a regression with a different variable as the target variable (e.g. Status) and see if you can make any further predictions "
      ]
    },
    {
      "cell_type": "code",
      "metadata": {
        "id": "YKSzGE8asdfA"
      },
      "source": [
        ""
      ],
      "execution_count": null,
      "outputs": []
    },
    {
      "cell_type": "markdown",
      "metadata": {
        "id": "Rib9VjiFseQC"
      },
      "source": [
        "# Reflection\n",
        "----\n",
        "\n",
        "## What skills have you demonstrated in completing this notebook?"
      ]
    },
    {
      "cell_type": "markdown",
      "metadata": {
        "id": "XWXVNaTisjQX"
      },
      "source": [
        "Your answer:"
      ]
    },
    {
      "cell_type": "markdown",
      "metadata": {
        "id": "_NSqU3jwskyp"
      },
      "source": [
        "## What caused you the most difficulty?"
      ]
    },
    {
      "cell_type": "markdown",
      "metadata": {
        "id": "UVB18pY9soGh"
      },
      "source": [
        "Your answer: "
      ]
    }
  ]
}