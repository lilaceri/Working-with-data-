{
  "nbformat": 4,
  "nbformat_minor": 0,
  "metadata": {
    "colab": {
      "name": "numpy with ans.ipynb",
      "provenance": [],
      "include_colab_link": true
    },
    "kernelspec": {
      "name": "python3",
      "display_name": "Python 3"
    },
    "language_info": {
      "name": "python"
    }
  },
  "cells": [
    {
      "cell_type": "markdown",
      "metadata": {
        "id": "view-in-github",
        "colab_type": "text"
      },
      "source": [
        "<a href=\"https://colab.research.google.com/github/lilaceri/Working-with-data-/blob/main/numpy_with_ans.ipynb\" target=\"_parent\"><img src=\"https://colab.research.google.com/assets/colab-badge.svg\" alt=\"Open In Colab\"/></a>"
      ]
    },
    {
      "cell_type": "code",
      "metadata": {
        "id": "HsDcB7mn4xq2"
      },
      "source": [
        ""
      ],
      "execution_count": null,
      "outputs": []
    },
    {
      "cell_type": "markdown",
      "metadata": {
        "id": "M21YTen340ZU"
      },
      "source": [
        "# Using numpy for processing arrays and matrices of number data\n",
        "\n",
        "---"
      ]
    },
    {
      "cell_type": "markdown",
      "metadata": {
        "id": "lvCryMxH47we"
      },
      "source": [
        "## numpy is a more efficient array processing library for Python\n",
        "\n",
        "Python lists can contain any type of data, including objects.  numpy arrays are specialised and can only contain numbers.\n",
        "\n",
        "You can customise the memory usage so that arrays can use less memory and items are stored contiguously.  This means that it is more efficient/faster processing large data sets.\n",
        "\n",
        "Use numpy arrays to store and manipulate large lists of numbers (for other data types use plain Python lists or a panda series)\n"
      ]
    },
    {
      "cell_type": "markdown",
      "metadata": {
        "id": "MxKEUfvp54QO"
      },
      "source": [
        "---\n",
        "### Creating a numpy array from a Python list\n",
        "\n",
        "To use numpy, you will need to import it.  The conventional way to import numpy is to import the whole library and use an *alias*\n",
        "\n",
        "`import numpy as np`\n",
        "\n",
        "Every time you want to use a function from the numpy library you use the syntax:  \n",
        "`np.function_name()`  \n",
        "\n",
        "Create a new numpy array from a Python list of numbers\n",
        "   \n",
        "`arr = np.array([1,2,3])`\n",
        "\n",
        "Or a new numpy matrix from a Python 2 dimensional list of numbers\n",
        "\n",
        "`matrix = np.array([1,2,3],[4,5,6])`"
      ]
    },
    {
      "cell_type": "markdown",
      "metadata": {
        "id": "s2HQHeHE6r4n"
      },
      "source": [
        "---\n",
        "### Exercise 1 - create a numpy array from a given list\n",
        "\n",
        "Write a function called `make_array(num_list`) which will:\n",
        "*   accept num_list as a parameter  \n",
        "*   create a new numpy array called **new_array** from `num_list`\n",
        "*   print `new_array`\n",
        "\n",
        "Test input:  \n",
        "[3,6,2,5,8,6]  \n",
        "\n",
        "Expected output:  \n",
        "[3,6,2,5,8,6]  \n",
        "\n"
      ]
    },
    {
      "cell_type": "code",
      "metadata": {
        "id": "-WWVDSRq7QDN",
        "colab": {
          "base_uri": "https://localhost:8080/"
        },
        "outputId": "06d7d818-310f-4237-9164-0b92bff41af6"
      },
      "source": [
        "import numpy as np\n",
        "def make_array(num_list):\n",
        "  new_array = np.array(num_list)\n",
        "  print(new_array)\n",
        "make_array([3,6,2,5,8,6])"
      ],
      "execution_count": null,
      "outputs": [
        {
          "output_type": "stream",
          "text": [
            "[3 6 2 5 8 6]\n"
          ],
          "name": "stdout"
        }
      ]
    },
    {
      "cell_type": "markdown",
      "metadata": {
        "id": "X2qc0-nc7qZV"
      },
      "source": [
        "## Setting the number type in memory\n",
        "\n",
        "numpy allows you to set the type of number in memory (e.g. int8, int32) when you create the array.  This allows memory allocation to be as small as possible.  \n",
        "\n",
        "`new_matrix = np.array([[1, 2, 3], [4, 5, 6]], np.int8)`    \n",
        "\n",
        "This creates a two row, three column matrix of whole numbers which are all small enough to fit in 1 byte of memory storage.\n",
        "\n",
        "---\n",
        "### Exercise 2 - create matrix of smallish numbers\n",
        "\n",
        "Write a function which will:\n",
        "*   accept a parameter **num_list** which will be a 2-dimensional list  \n",
        "*   create a new numpy array called **new_matrix** from `num_list`, with data size `int16`\n",
        "*   print `new_matrix` one list per line\n",
        "\n",
        "Test input:  \n",
        "[31112, 32321, 24567],[456,324,789]\n",
        "\n",
        "Expected output:   \n",
        "[31112, 32321, 24567]  \n",
        "[456,324,789]  \n",
        " \n"
      ]
    },
    {
      "cell_type": "code",
      "metadata": {
        "id": "XUMfMwhLACzH",
        "colab": {
          "base_uri": "https://localhost:8080/"
        },
        "outputId": "3be13a52-a8ba-47d8-e45a-360b14ccd5dc"
      },
      "source": [
        "def small_matrix(num_list):\n",
        "  new_matrix = np.array(num_list, np.int16)\n",
        "  print(new_matrix)\n",
        "\n",
        "small_matrix([[31112, 32321, 24567],[456,324,789]])"
      ],
      "execution_count": null,
      "outputs": [
        {
          "output_type": "stream",
          "text": [
            "[[31112 32321 24567]\n",
            " [  456   324   789]]\n"
          ],
          "name": "stdout"
        }
      ]
    },
    {
      "cell_type": "markdown",
      "metadata": {
        "id": "oC8rsm3yBLRd"
      },
      "source": [
        "---\n",
        "### Exercise 3 - make a 3 x 3 numpy array\n",
        "\n",
        "Write a function which  will create a 3 x 3 array, then print the array one row per line.\n",
        "\n",
        "Test data:  \n",
        "[[1,2,3],[4,5,6],[7,8,9]]\n",
        "\n",
        "Expected output:  \n",
        "[1 2 3]  \n",
        "[4 5 6]  \n",
        "[7 8 9]  "
      ]
    },
    {
      "cell_type": "code",
      "metadata": {
        "id": "QCs2eDFEBhr8",
        "colab": {
          "base_uri": "https://localhost:8080/"
        },
        "outputId": "d3a2e83c-efa3-4bd3-c39e-c067bb43509b"
      },
      "source": [
        "def three_array(num_list):\n",
        "  new_matrix = np.array(num_list)\n",
        "  print(new_matrix)\n",
        "three_array([[1,2,3],[4,5,6],[7,8,9]])"
      ],
      "execution_count": null,
      "outputs": [
        {
          "output_type": "stream",
          "text": [
            "[[1 2 3]\n",
            " [4 5 6]\n",
            " [7 8 9]]\n"
          ],
          "name": "stdout"
        }
      ]
    },
    {
      "cell_type": "markdown",
      "metadata": {
        "id": "qf3xj2T9CRmT"
      },
      "source": [
        "---\n",
        "### Exercise 4 - make a 2 x 2 x 2 numpy array\n",
        "\n",
        "Write a function which will create a 2 x 2 x 2 array, then print the array one individual array per line.\n",
        "\n",
        "Test data:\n",
        "[[[1,2],[3,4]],[[5,6],[7,8]],[[9,10],[11,12]]]\n",
        "\n",
        "Expected output:\n",
        "[1,2]  \n",
        "[3,4]  \n",
        "[5,6]  \n",
        "[7,8]  \n",
        "[9,10]  \n",
        "[11,12]  "
      ]
    },
    {
      "cell_type": "code",
      "metadata": {
        "id": "27UpVktxC_VX",
        "colab": {
          "base_uri": "https://localhost:8080/"
        },
        "outputId": "69abc1a6-5427-42e4-e6f5-f25673a14f28"
      },
      "source": [
        "def new_matrix(num_list):\n",
        "  matrix = np.array(num_list)\n",
        "  print(matrix)\n",
        "three_array([[[1,2],[3,4]],[[5,6],[7,8]],[[9,10],[11,12]]])"
      ],
      "execution_count": null,
      "outputs": [
        {
          "output_type": "stream",
          "text": [
            "[[[ 1  2]\n",
            "  [ 3  4]]\n",
            "\n",
            " [[ 5  6]\n",
            "  [ 7  8]]\n",
            "\n",
            " [[ 9 10]\n",
            "  [11 12]]]\n"
          ],
          "name": "stdout"
        }
      ]
    },
    {
      "cell_type": "markdown",
      "metadata": {
        "id": "-LciyxtyCKTG"
      },
      "source": [
        "## Inspecting the shape of the array/matrix\n",
        "\n",
        "numpy provides the `np.shape` property for reporting the shape of a numpy array.  np.shape will give the number of layers, rows, columns (and more if necessary) present in the array.  Arrays can be multi-dimensional but we will only arrays of maximum 3 dimensions to keep it simple.  \n",
        "\n",
        "Example:  \n",
        "```\n",
        "matrix = np.array([[[1,1],[2,2],[3,3]],[[4,4],[5,5],[6,6]]])\n",
        "print(matrix.shape)\n",
        "```\n",
        "\n",
        "Expected output:  \n",
        "(2, 3, 2)\n",
        "\n",
        "This matrix has 2 layers of 3 rows of 2 columns"
      ]
    },
    {
      "cell_type": "markdown",
      "metadata": {
        "id": "dgMSHeN8Ey0Q"
      },
      "source": [
        "---\n",
        "### Exercise 5 - print the shape\n",
        "\n",
        "Write a function which will:  \n",
        "*  create a numpy array using the test data below\n",
        "*  print the shape of the array\n",
        "\n",
        "Test 1 data:  \n",
        "[3,7,56]\n",
        "\n",
        "Expected output:\n",
        "(3,)\n",
        "\n",
        "Test 2 data:  \n",
        "[[7,6,5,8,4,9],[3,7,5,8,6,9]]\n",
        "\n",
        "Expected output:  \n",
        "(2,6)"
      ]
    },
    {
      "cell_type": "code",
      "metadata": {
        "id": "uFARauf3FiMf",
        "colab": {
          "base_uri": "https://localhost:8080/"
        },
        "outputId": "a10f6b5d-d022-4259-dca7-4c6b2edf945f"
      },
      "source": [
        "def matrix_shape(num_list):\n",
        "  new_matrix = np.array(num_list)\n",
        "  print(new_matrix.shape)\n",
        "three_array([[7,6,5,8,4,9],[3,7,5,8,6,9]])"
      ],
      "execution_count": null,
      "outputs": [
        {
          "output_type": "stream",
          "text": [
            "(2, 6)\n"
          ],
          "name": "stdout"
        }
      ]
    },
    {
      "cell_type": "markdown",
      "metadata": {
        "id": "DDVIHbrnFjwz"
      },
      "source": [
        "---\n",
        "### Exercise 6 - using slicing to print parts of arrays\n",
        "\n",
        "Write a function which will:  \n",
        "*  create an array from the Python list [1,2,3,4,5]\n",
        "*  print the first 3 items in the array\n",
        "*  print the last item in the array"
      ]
    },
    {
      "cell_type": "code",
      "metadata": {
        "id": "YB72q998EWkF",
        "colab": {
          "base_uri": "https://localhost:8080/"
        },
        "outputId": "e09107c8-633d-4cf7-bbfc-be873824aed9"
      },
      "source": [
        "def slice_matrix():\n",
        "  new_matrix = np.array([1,2,3,4,5])\n",
        "  print(new_matrix[0:3])\n",
        "  print(new_matrix[-1])\n",
        "slice_matrix()"
      ],
      "execution_count": null,
      "outputs": [
        {
          "output_type": "stream",
          "text": [
            "[1 2 3]\n",
            "5\n"
          ],
          "name": "stdout"
        }
      ]
    },
    {
      "cell_type": "markdown",
      "metadata": {
        "id": "QnOKzp1cHAvH"
      },
      "source": [
        "---\n",
        "### Exercise 7 - using slicing to print parts of array rows and columns\n",
        "\n",
        "Write a function which will:  \n",
        "*  create an array from the Python 2 dimsensional list [[1,2,3,4],[5,6,7,8],[9,1,2,3]]\n",
        "*  print the first item in the second row   \n",
        "*  print the first 2 rows only\n",
        "*  print the last 2 items in the last 2 rows\n",
        "\n",
        "Expected output:  \n",
        "5  \n",
        "[[1,2,3,4],[5,6,7,8]]  \n",
        "[[7,8],[2,3]]"
      ]
    },
    {
      "cell_type": "code",
      "metadata": {
        "id": "xXsISkA4HibO",
        "colab": {
          "base_uri": "https://localhost:8080/"
        },
        "outputId": "2978bbc3-c828-4b98-db3a-aec1d6c90f9a"
      },
      "source": [
        "def slice_matrix():\n",
        "  new_matrix = np.array([[1,2,3,4],[5,6,7,8],[9,1,2,3]])\n",
        "  print(new_matrix[1, 0])\n",
        "  print(new_matrix[0:2])\n",
        "  print(new_matrix[1:3, -2:])\n",
        "slice_matrix()"
      ],
      "execution_count": null,
      "outputs": [
        {
          "output_type": "stream",
          "text": [
            "5\n",
            "[[1 2 3 4]\n",
            " [5 6 7 8]]\n",
            "[[7 8]\n",
            " [2 3]]\n"
          ],
          "name": "stdout"
        }
      ]
    },
    {
      "cell_type": "markdown",
      "metadata": {
        "id": "OxR5qwoxIhMY"
      },
      "source": [
        "---\n",
        "## Broadcasting an operation across an array\n",
        "\n",
        "Because a numpy array is created from a related set of data, it is useful to be able to operate on every item in the array in the same way.  For instance, the array might hold a set of scores out of 30 and you might want to convert all scores into percentages.\n",
        "\n",
        "We can do this in a number of ways:  \n",
        "1.  Create a new array to store the result after the operation in the new array\n",
        "```\n",
        "scores = np.array([29,25,15,22,30])\n",
        "percentages = scores / 30 * 100\n",
        "print(percentages)\n",
        "```\n",
        "Expected output:  [ 96.66666667  83.33333333  50.  73.33333333 100. ]  \n",
        "\n",
        "2.  Store the result in the original array\n",
        "```\n",
        "scores = np.array([29,25,15,22,30])\n",
        "scores = scores / 30 * 100\n",
        "print(scores)\n",
        "```\n",
        "Expected output:  [ 96.66666667  83.33333333  50.  73.33333333 100. ]\n",
        "\n",
        "Give it a try:\n",
        "\n",
        "\n",
        "\n"
      ]
    },
    {
      "cell_type": "code",
      "metadata": {
        "id": "ozhaq9-tJhRy"
      },
      "source": [
        ""
      ],
      "execution_count": null,
      "outputs": []
    },
    {
      "cell_type": "markdown",
      "metadata": {
        "id": "Lg62ACAlLzT8"
      },
      "source": [
        "---\n",
        "### Exercise 8 - increase whole array by 20\n",
        "\n",
        "Write a function which will:\n",
        "*  create a numpy array of 12 numbers\n",
        "*  create a new array adding 20 to each of the items in the first array  \n",
        "*  print the new array\n",
        "\n",
        "Test input:  \n",
        "[1,2,3,4,5,6,7,8,1,2,3,4]  \n",
        "\n",
        "Expected output:  \n",
        "[21,22,23,24,25,26,27,28,21,22,23,24]"
      ]
    },
    {
      "cell_type": "code",
      "metadata": {
        "id": "HloCtcOYMD3W"
      },
      "source": [
        ""
      ],
      "execution_count": null,
      "outputs": []
    },
    {
      "cell_type": "markdown",
      "metadata": {
        "id": "B-p-PF99MECD"
      },
      "source": [
        "---\n",
        "## Using functions to create arrays of 1s, 0s or a range of numbers\n",
        "\n",
        "You can use np.arange(range) to create an array with a range of numbers.  Like range in Python, either give 1 number to get all numbers from 0 to the number before it, or give 2 numbers to get the numbers from the first to one before the last.  You can specify the start number, the stop number and a step size (e.g. (1,9,2) will generate [1 3 5 7]:\n",
        "```\n",
        "array1 = np.arange(10)\n",
        "```\n",
        "will give array1 = [0,1,2,3,4,5,6,7,8,9]\n",
        "\n",
        "```\n",
        "array2 = np.arange(2,9)\n",
        "```\n",
        "will give array2 = [2,3,4,5,6,7,8]\n",
        "\n",
        "```\n",
        "array3 = np.arange(2,9,3)\n",
        "```\n",
        "will give array3 = [2,5,8]  \n",
        "\n",
        "---\n",
        "\n",
        "To create a new array of 10 zeros:\n",
        "```\n",
        "array4 = np.zeros(10)\n",
        "```\n",
        "will give array4 = [0. 0. 0. 0. 0. 0. 0. 0. 0. 0.]\n",
        "\n",
        "To create a new array of 10 zeros as integers:\n",
        "```\n",
        "array5 = np.zeros(10, dtype='int32')\n",
        "```\n",
        "will give array5 = [0 0 0 0 0 0 0 0 0 0]\n",
        "\n",
        "To create a new array of 8 ones:  \n",
        "```\n",
        "array6 = np.ones(8, dtype='int16')\n",
        "```\n",
        "will give array6 = [1 1 1 1 1 1 1 1]\n",
        "\n",
        "---\n",
        "### Exercise 9 - create a numpy array of the numbers 1 to 8  \n",
        "\n",
        "Write a function which will:  \n",
        "*  create a numpy array with the numbers 1 to 8 using np.arange()  \n",
        "*  create a second numpy array with 12 zeros\n",
        "*  create a third numpy array with 4 ones\n",
        "*  create a fourth numpy array with the the multiples of 10 from 10 to 100 (use arange with start, stop and step)\n",
        "\n",
        "Expected output:  \n",
        "[1 2 3 4 5 6 7 8]  \n",
        "[0 0 0 0 0 0 0 0 0 0 0 0]  \n",
        "[1 1 1 1]  \n",
        "[ 10  20  30  40  50  60  70  80  90 100]\n",
        "\n",
        "\n",
        " "
      ]
    },
    {
      "cell_type": "code",
      "metadata": {
        "id": "ahgPUqTjM9it"
      },
      "source": [
        ""
      ],
      "execution_count": null,
      "outputs": []
    },
    {
      "cell_type": "markdown",
      "metadata": {
        "id": "Bv1G1MJpT1U9"
      },
      "source": [
        "---\n",
        "### Exercise 10 - create a numpy mask matrix\n",
        "\n",
        "**Challenging**\n",
        "\n",
        "Write a function which will create and print a numpy array as follows:\n",
        "\n",
        "*  create **array1** with shape=(8,8) containing all zeros of dtype int16\n",
        "*  change the value of the middle two items of the middle two rows of `array1`, each to 1 (use list indexing for this)\n",
        "*  print `array1`\n",
        "*  change the value of the corner items to 1\n",
        "*  print `array1`\n",
        "\n",
        "Expected output:  \n",
        "[[0 0 0 0 0 0 0 0]  \n",
        " [0 0 0 0 0 0 0 0]  \n",
        " [0 0 0 0 0 0 0 0]  \n",
        " [0 0 0 1 1 0 0 0]  \n",
        " [0 0 0 1 1 0 0 0]  \n",
        " [0 0 0 0 0 0 0 0]  \n",
        " [0 0 0 0 0 0 0 0]  \n",
        " [0 0 0 0 0 0 0 0]]    \n",
        "\n",
        " [[1 0 0 0 0 0 0 1]  \n",
        " [0 0 0 0 0 0 0 0]  \n",
        " [0 0 0 0 0 0 0 0]  \n",
        " [0 0 0 1 1 0 0 0]  \n",
        " [0 0 0 1 1 0 0 0]  \n",
        " [0 0 0 0 0 0 0 0]  \n",
        " [0 0 0 0 0 0 0 0]  \n",
        " [1 0 0 0 0 0 0 1]]  \n",
        "\n"
      ]
    },
    {
      "cell_type": "code",
      "metadata": {
        "id": "x90cXT8NWD40"
      },
      "source": [
        ""
      ],
      "execution_count": null,
      "outputs": []
    }
  ]
}