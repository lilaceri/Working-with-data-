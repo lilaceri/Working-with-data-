{
  "nbformat": 4,
  "nbformat_minor": 0,
  "metadata": {
    "colab": {
      "name": "Working with list data challenge.ipynb",
      "provenance": [],
      "collapsed_sections": [],
      "include_colab_link": true
    },
    "kernelspec": {
      "name": "python3",
      "display_name": "Python 3"
    },
    "language_info": {
      "name": "python"
    }
  },
  "cells": [
    {
      "cell_type": "markdown",
      "metadata": {
        "id": "view-in-github",
        "colab_type": "text"
      },
      "source": [
        "<a href=\"https://colab.research.google.com/github/lilaceri/Working-with-data-/blob/main/Working_with_list_data_challenge.ipynb\" target=\"_parent\"><img src=\"https://colab.research.google.com/assets/colab-badge.svg\" alt=\"Open In Colab\"/></a>"
      ]
    },
    {
      "cell_type": "markdown",
      "metadata": {
        "id": "z3cqyYR4PI-E"
      },
      "source": [
        "# Create a set of statistics from a list of sea levels \n",
        "\n",
        "---\n",
        "Sea levels are rising.  The data in the tests at the bottom of this notebook contains a list of the difference between the sea level in any year since 1880 and the level it was in 1880.\n",
        "\n",
        "### Data Source\n",
        "Global Average Absolute Sea Level Change, 1880-2014 from the US Environmental Protection Agency using data from CSIRO, 2015; NOAA, 2015.\n",
        "https://datahub.io/core/sea-level-rise\n",
        "\n",
        "The data describes annual sea levels from 1880 to 2013 given in inches.  Measures are adjusted using two standards: Commonwealth Scientific and Industrial Research Organisation(CSIRO) and National Oceanic and Atmospheric Administration (NOAA).  The given list contains the measures adjusted by the CSIRO standard.\n"
      ]
    },
    {
      "cell_type": "markdown",
      "metadata": {
        "id": "8TxO6iyVcnoE"
      },
      "source": [
        "## To complete this challenge you will need to know:\n",
        "*  Data types, variables and operators\n",
        "*  Selection and loops\n",
        "*  Functions\n",
        "*  Data structures\n",
        "\n",
        "\n",
        "Complete the functions below and test that they work by running the tests in the final cell"
      ]
    },
    {
      "cell_type": "markdown",
      "metadata": {
        "id": "2mUqEsvBdBRF"
      },
      "source": [
        "---\n",
        "## Calculate the average annual sea level rise between the given indexes\n"
      ]
    },
    {
      "cell_type": "code",
      "metadata": {
        "id": "6uteC8yndcWb",
        "colab": {
          "base_uri": "https://localhost:8080/"
        },
        "outputId": "bce4b91d-55fb-4a2a-b890-d081a3e3b9e8"
      },
      "source": [
        "def get_average(levels, start_index, end_index):\n",
        "  #  add your code below here to calculate the average of the values between start_index and end_index, including both, then run to test it\n",
        "  #  return -1 if the end_index is larger than the length of levels\n",
        "  total = 0 \n",
        "  count = 0 \n",
        "  if end_index > len(levels):\n",
        "        return -1 \n",
        "  for i in range(start_index, end_index+1):\n",
        "        total += levels[i]\n",
        "        count += 1 \n",
        "  return total/count\n",
        "\n",
        "\n",
        "# Tests\n",
        "sea_levels = [0.0, 0.22047244100000002, -0.440944881, -0.232283464, 0.590551181, 0.531496062, 0.43700787399999996, 0.216535433, 0.299212598, 0.362204724, 0.440944881, 0.374015748, 0.499999999, 0.6850393690000001, 0.303149606, 0.767716535, 0.46850393700000004, 0.6732283459999999, 1.043307086, 1.338582676, 1.125984251, 1.1102362190000001, 1.291338581, 1.6062992109999998, 1.2007874, 0.9842519679999999, 1.251968503, 1.196850392, 1.098425196, 1.27559055, 1.2716535420000001, 1.598425195, 1.476377951, 1.5472440930000002, 1.795275589, 2.10629921, 2.031496061, 1.854330707, 1.791338581, 1.854330707, 1.905511809, 1.988188974, 1.952755904, 1.999999998, 1.7125984230000002, 1.791338581, 2.0472440919999997, 2.003937006, 1.850393699, 1.905511809, 2.062992124, 2.0472440919999997, 2.271653541, 2.440944879, 2.228346454, 2.448818895, 2.295275588, 2.519685037, 2.6220472409999998, 2.826771651, 2.618110234, 3.098425194, 3.098425194, 3.098425194, 2.84645669, 2.95669291, 3.2519685010000003, 3.374015745, 3.562992122, 3.51181102, 3.598425193, 3.9724409410000003, 3.8700787360000004, 4.043307082, 3.929133854, 3.964566925, 3.763779524, 4.291338578, 4.346456688, 4.358267712, 4.503937003, 4.748031491, 4.543307082, 4.480314956, 4.1692913339999995, 4.6102362160000006, 4.397637791, 4.452755901000001, 4.484251963999999, 4.751968499, 4.67716535, 4.881889759, 5.240157475, 5.003937003, 5.472440939, 5.409448812999999, 5.370078735, 5.303149601, 5.555118105, 5.362204719, 5.5984251910000005, 6.0866141670000005, 5.858267711, 6.188976372000001, 6.153543301, 5.74803149, 5.771653537000001, 5.795275585, 5.980314955, 6.157480308999999, 6.2322834579999995, 6.334645663, 6.35826771, 6.291338576, 6.499999992999999, 6.618110229, 6.787401568, 7.066929127000001, 6.665354324, 7.011811016, 7.062992119, 7.287401567000001, 7.3818897560000005, 7.7598425120000005, 7.740157472000001, 7.74409448, 7.9173228270000005, 7.996062984, 8.350393692, 8.586614164, 8.901574794, 8.96456692, 9.326771643999999, 8.980314951]\n",
        "# Test 1 - average of first 10 values\n",
        "if get_average(sea_levels,0,9) == 0.19842519679999998:\n",
        "  print(\"Test 1 passed\")\n",
        "else: \n",
        "  print(\"Test 1 failed\")\n",
        "# Test 2 - average of last 14 values\n",
        "if get_average(sea_levels,len(sea_levels)-14,len(sea_levels)-1 ) == 8.14285713442857:\n",
        "  print(\"Test 2 passed\")\n",
        "else: \n",
        "  print(\"Test 2 failed\")\n",
        "# Test 3 - returns -1 if end_index is larger than the length of levels\n",
        "if get_average(sea_levels,0,len(sea_levels) + 10 ) == -1:\n",
        "  print(\"Test 3 passed\")\n",
        "else: \n",
        "  print(\"Test 3 failed\")\n",
        "# Test 4 - average of whole list\n",
        "if get_average(sea_levels,0,len(sea_levels) -1 ) == 3.6503408118805987:\n",
        "  print(\"Test 4 passed\")\n",
        "else: \n",
        "  print(\"Test 4 failed\")\n"
      ],
      "execution_count": null,
      "outputs": [
        {
          "output_type": "stream",
          "text": [
            "Test 1 passed\n",
            "Test 2 passed\n",
            "Test 3 passed\n",
            "Test 4 passed\n"
          ],
          "name": "stdout"
        }
      ]
    },
    {
      "cell_type": "markdown",
      "metadata": {
        "id": "afnwVMLcn8Nc"
      },
      "source": [
        "---\n",
        "## Calculate the largest change from one year to the next in the entire list\n",
        "The change would be indicated by subtracting the preceding level from this level\n",
        "\n"
      ]
    },
    {
      "cell_type": "code",
      "metadata": {
        "id": "6gvFh7qGoWVz",
        "colab": {
          "base_uri": "https://localhost:8080/"
        },
        "outputId": "58908b33-2f14-49c8-fe1e-c0def65f04c1"
      },
      "source": [
        "def get_largest_change(levels):\n",
        "  #  add your code below here to find the highest change from one year to the next, then run to test it\n",
        "  difference = [] \n",
        "  for i in range(1, len(levels)):\n",
        "      difference.append(levels[i] - levels[i-1]) \n",
        "  largest = max(difference)\n",
        "  return largest \n",
        "\n",
        "\n",
        "\n",
        "\n",
        "# Tests\n",
        "sea_levels = [0.0, 0.22047244100000002, -0.440944881, -0.232283464, 0.590551181, 0.531496062, 0.43700787399999996, 0.216535433, 0.299212598, 0.362204724, 0.440944881, 0.374015748, 0.499999999, 0.6850393690000001, 0.303149606, 0.767716535, 0.46850393700000004, 0.6732283459999999, 1.043307086, 1.338582676, 1.125984251, 1.1102362190000001, 1.291338581, 1.6062992109999998, 1.2007874, 0.9842519679999999, 1.251968503, 1.196850392, 1.098425196, 1.27559055, 1.2716535420000001, 1.598425195, 1.476377951, 1.5472440930000002, 1.795275589, 2.10629921, 2.031496061, 1.854330707, 1.791338581, 1.854330707, 1.905511809, 1.988188974, 1.952755904, 1.999999998, 1.7125984230000002, 1.791338581, 2.0472440919999997, 2.003937006, 1.850393699, 1.905511809, 2.062992124, 2.0472440919999997, 2.271653541, 2.440944879, 2.228346454, 2.448818895, 2.295275588, 2.519685037, 2.6220472409999998, 2.826771651, 2.618110234, 3.098425194, 3.098425194, 3.098425194, 2.84645669, 2.95669291, 3.2519685010000003, 3.374015745, 3.562992122, 3.51181102, 3.598425193, 3.9724409410000003, 3.8700787360000004, 4.043307082, 3.929133854, 3.964566925, 3.763779524, 4.291338578, 4.346456688, 4.358267712, 4.503937003, 4.748031491, 4.543307082, 4.480314956, 4.1692913339999995, 4.6102362160000006, 4.397637791, 4.452755901000001, 4.484251963999999, 4.751968499, 4.67716535, 4.881889759, 5.240157475, 5.003937003, 5.472440939, 5.409448812999999, 5.370078735, 5.303149601, 5.555118105, 5.362204719, 5.5984251910000005, 6.0866141670000005, 5.858267711, 6.188976372000001, 6.153543301, 5.74803149, 5.771653537000001, 5.795275585, 5.980314955, 6.157480308999999, 6.2322834579999995, 6.334645663, 6.35826771, 6.291338576, 6.499999992999999, 6.618110229, 6.787401568, 7.066929127000001, 6.665354324, 7.011811016, 7.062992119, 7.287401567000001, 7.3818897560000005, 7.7598425120000005, 7.740157472000001, 7.74409448, 7.9173228270000005, 7.996062984, 8.350393692, 8.586614164, 8.901574794, 8.96456692, 9.326771643999999, 8.980314951]\n",
        "# Test 1 - largest year on year change\n",
        "if get_largest_change(sea_levels) == 0.822834645:\n",
        "  print(\"Test 1 passed\")\n",
        "else:\n",
        "  print(\"Test 1 failed\")\n",
        " "
      ],
      "execution_count": null,
      "outputs": [
        {
          "output_type": "stream",
          "text": [
            "Test 1 passed\n"
          ],
          "name": "stdout"
        }
      ]
    },
    {
      "cell_type": "markdown",
      "metadata": {
        "id": "NemW25XkptxM"
      },
      "source": [
        "---\n",
        "## Calculate the smallest change from one year to the next in the entire list\n",
        "The change would be indicated by subtracting the preceding level from this level\n",
        "\n"
      ]
    },
    {
      "cell_type": "code",
      "metadata": {
        "id": "2h48-IUEp6Lm",
        "colab": {
          "base_uri": "https://localhost:8080/"
        },
        "outputId": "55e4f3f3-e29d-4702-e0ae-19b53f937e85"
      },
      "source": [
        "def get_smallest_change(levels):\n",
        "  #  add your code below here to find the highest change from one year to the next, then run to test it\n",
        "  difference = [] \n",
        "  for i in range(1, len(levels)):\n",
        "      difference.append(levels[i] - levels[i-1]) \n",
        "  smallest = min(difference)\n",
        "  return smallest   \n",
        "\n",
        "\n",
        "# Tests\n",
        "sea_levels = [0.0, 0.22047244100000002, -0.440944881, -0.232283464, 0.590551181, 0.531496062, 0.43700787399999996, 0.216535433, 0.299212598, 0.362204724, 0.440944881, 0.374015748, 0.499999999, 0.6850393690000001, 0.303149606, 0.767716535, 0.46850393700000004, 0.6732283459999999, 1.043307086, 1.338582676, 1.125984251, 1.1102362190000001, 1.291338581, 1.6062992109999998, 1.2007874, 0.9842519679999999, 1.251968503, 1.196850392, 1.098425196, 1.27559055, 1.2716535420000001, 1.598425195, 1.476377951, 1.5472440930000002, 1.795275589, 2.10629921, 2.031496061, 1.854330707, 1.791338581, 1.854330707, 1.905511809, 1.988188974, 1.952755904, 1.999999998, 1.7125984230000002, 1.791338581, 2.0472440919999997, 2.003937006, 1.850393699, 1.905511809, 2.062992124, 2.0472440919999997, 2.271653541, 2.440944879, 2.228346454, 2.448818895, 2.295275588, 2.519685037, 2.6220472409999998, 2.826771651, 2.618110234, 3.098425194, 3.098425194, 3.098425194, 2.84645669, 2.95669291, 3.2519685010000003, 3.374015745, 3.562992122, 3.51181102, 3.598425193, 3.9724409410000003, 3.8700787360000004, 4.043307082, 3.929133854, 3.964566925, 3.763779524, 4.291338578, 4.346456688, 4.358267712, 4.503937003, 4.748031491, 4.543307082, 4.480314956, 4.1692913339999995, 4.6102362160000006, 4.397637791, 4.452755901000001, 4.484251963999999, 4.751968499, 4.67716535, 4.881889759, 5.240157475, 5.003937003, 5.472440939, 5.409448812999999, 5.370078735, 5.303149601, 5.555118105, 5.362204719, 5.5984251910000005, 6.0866141670000005, 5.858267711, 6.188976372000001, 6.153543301, 5.74803149, 5.771653537000001, 5.795275585, 5.980314955, 6.157480308999999, 6.2322834579999995, 6.334645663, 6.35826771, 6.291338576, 6.499999992999999, 6.618110229, 6.787401568, 7.066929127000001, 6.665354324, 7.011811016, 7.062992119, 7.287401567000001, 7.3818897560000005, 7.7598425120000005, 7.740157472000001, 7.74409448, 7.9173228270000005, 7.996062984, 8.350393692, 8.586614164, 8.901574794, 8.96456692, 9.326771643999999, 8.980314951]\n",
        "# Test 1 - smallest year on year change\n",
        "if get_smallest_change(sea_levels) == -0.661417322:\n",
        "  print(\"Test 1 passed\")\n",
        "else:\n",
        "  print(\"Test 1 failed\")"
      ],
      "execution_count": null,
      "outputs": [
        {
          "output_type": "stream",
          "text": [
            "Test 1 passed\n"
          ],
          "name": "stdout"
        }
      ]
    },
    {
      "cell_type": "markdown",
      "metadata": {
        "id": "v0HvxfQgrUIL"
      },
      "source": [
        "---\n",
        "### Calculate in how many years did the sea level fall rather than rise\n"
      ]
    },
    {
      "cell_type": "code",
      "metadata": {
        "id": "G8J3PjjQrdw9",
        "colab": {
          "base_uri": "https://localhost:8080/"
        },
        "outputId": "7a8a35e8-8158-42db-f293-0377f3f9d0a2"
      },
      "source": [
        "def find_total_fall_years(levels):\n",
        "  # add your code below here to find the number of years the sea level fell, then run to test it\n",
        "  count = 0\n",
        "  difference = []\n",
        "  for i in range(1, len(levels)):\n",
        "      difference.append(levels[i] - levels[i-1]) \n",
        "  for j in difference:\n",
        "    if j < 0:\n",
        "      count += 1 \n",
        "  return count \n",
        "\n",
        "def rise_years(levels):\n",
        "  count = 0\n",
        "  difference = []\n",
        "  for i in range(1, len(levels)):\n",
        "      difference.append(levels[i] - levels[i-1]) \n",
        "  for j in difference:\n",
        "    if j >= 0:\n",
        "      count += 1\n",
        "  print(count)     \n",
        "  return count\n",
        "\n",
        "\n",
        "\n",
        "# Tests\n",
        "sea_levels = [0.0, 0.22047244100000002, -0.440944881, -0.232283464, 0.590551181, 0.531496062, 0.43700787399999996, 0.216535433, 0.299212598, 0.362204724, 0.440944881, 0.374015748, 0.499999999, 0.6850393690000001, 0.303149606, 0.767716535, 0.46850393700000004, 0.6732283459999999, 1.043307086, 1.338582676, 1.125984251, 1.1102362190000001, 1.291338581, 1.6062992109999998, 1.2007874, 0.9842519679999999, 1.251968503, 1.196850392, 1.098425196, 1.27559055, 1.2716535420000001, 1.598425195, 1.476377951, 1.5472440930000002, 1.795275589, 2.10629921, 2.031496061, 1.854330707, 1.791338581, 1.854330707, 1.905511809, 1.988188974, 1.952755904, 1.999999998, 1.7125984230000002, 1.791338581, 2.0472440919999997, 2.003937006, 1.850393699, 1.905511809, 2.062992124, 2.0472440919999997, 2.271653541, 2.440944879, 2.228346454, 2.448818895, 2.295275588, 2.519685037, 2.6220472409999998, 2.826771651, 2.618110234, 3.098425194, 3.098425194, 3.098425194, 2.84645669, 2.95669291, 3.2519685010000003, 3.374015745, 3.562992122, 3.51181102, 3.598425193, 3.9724409410000003, 3.8700787360000004, 4.043307082, 3.929133854, 3.964566925, 3.763779524, 4.291338578, 4.346456688, 4.358267712, 4.503937003, 4.748031491, 4.543307082, 4.480314956, 4.1692913339999995, 4.6102362160000006, 4.397637791, 4.452755901000001, 4.484251963999999, 4.751968499, 4.67716535, 4.881889759, 5.240157475, 5.003937003, 5.472440939, 5.409448812999999, 5.370078735, 5.303149601, 5.555118105, 5.362204719, 5.5984251910000005, 6.0866141670000005, 5.858267711, 6.188976372000001, 6.153543301, 5.74803149, 5.771653537000001, 5.795275585, 5.980314955, 6.157480308999999, 6.2322834579999995, 6.334645663, 6.35826771, 6.291338576, 6.499999992999999, 6.618110229, 6.787401568, 7.066929127000001, 6.665354324, 7.011811016, 7.062992119, 7.287401567000001, 7.3818897560000005, 7.7598425120000005, 7.740157472000001, 7.74409448, 7.9173228270000005, 7.996062984, 8.350393692, 8.586614164, 8.901574794, 8.96456692, 9.326771643999999, 8.980314951]\n",
        "# Test 1 - number of years sea levels fell\n",
        "if find_total_fall_years(sea_levels) == 48:\n",
        "  print(\"Test 1 passed\")\n",
        "else:\n",
        "  print(\"Test 1 failed\")"
      ],
      "execution_count": null,
      "outputs": [
        {
          "output_type": "stream",
          "text": [
            "Test 1 passed\n"
          ],
          "name": "stdout"
        }
      ]
    },
    {
      "cell_type": "markdown",
      "metadata": {
        "id": "i0nL_m-ksjGk"
      },
      "source": [
        "---\n",
        "## Find the year that the sea was at the highest above 1880 levels\n",
        "(the data represents annual rises since 1880, with the first value being the level for 1880)"
      ]
    },
    {
      "cell_type": "code",
      "metadata": {
        "id": "c9-jRqwFsuDU",
        "colab": {
          "base_uri": "https://localhost:8080/"
        },
        "outputId": "2ede814f-bf7f-469a-9ebe-cb89c472ef30"
      },
      "source": [
        "def find_highest_year(levels):\n",
        "  #  add your code below here to find the highest level above 1880 levels\n",
        "  highest = 0 \n",
        "  year = 1880\n",
        "  for i in range(1, len(levels)):\n",
        "    highest = max(levels)\n",
        "  year = 1880 + levels.index(highest)\n",
        "  return year \n",
        "      \n",
        "\n",
        "  \n",
        "\n",
        "# Tests\n",
        "sea_levels = [0.0, 0.22047244100000002, -0.440944881, -0.232283464, 0.590551181, 0.531496062, 0.43700787399999996, 0.216535433, 0.299212598, 0.362204724, 0.440944881, 0.374015748, 0.499999999, 0.6850393690000001, 0.303149606, 0.767716535, 0.46850393700000004, 0.6732283459999999, 1.043307086, 1.338582676, 1.125984251, 1.1102362190000001, 1.291338581, 1.6062992109999998, 1.2007874, 0.9842519679999999, 1.251968503, 1.196850392, 1.098425196, 1.27559055, 1.2716535420000001, 1.598425195, 1.476377951, 1.5472440930000002, 1.795275589, 2.10629921, 2.031496061, 1.854330707, 1.791338581, 1.854330707, 1.905511809, 1.988188974, 1.952755904, 1.999999998, 1.7125984230000002, 1.791338581, 2.0472440919999997, 2.003937006, 1.850393699, 1.905511809, 2.062992124, 2.0472440919999997, 2.271653541, 2.440944879, 2.228346454, 2.448818895, 2.295275588, 2.519685037, 2.6220472409999998, 2.826771651, 2.618110234, 3.098425194, 3.098425194, 3.098425194, 2.84645669, 2.95669291, 3.2519685010000003, 3.374015745, 3.562992122, 3.51181102, 3.598425193, 3.9724409410000003, 3.8700787360000004, 4.043307082, 3.929133854, 3.964566925, 3.763779524, 4.291338578, 4.346456688, 4.358267712, 4.503937003, 4.748031491, 4.543307082, 4.480314956, 4.1692913339999995, 4.6102362160000006, 4.397637791, 4.452755901000001, 4.484251963999999, 4.751968499, 4.67716535, 4.881889759, 5.240157475, 5.003937003, 5.472440939, 5.409448812999999, 5.370078735, 5.303149601, 5.555118105, 5.362204719, 5.5984251910000005, 6.0866141670000005, 5.858267711, 6.188976372000001, 6.153543301, 5.74803149, 5.771653537000001, 5.795275585, 5.980314955, 6.157480308999999, 6.2322834579999995, 6.334645663, 6.35826771, 6.291338576, 6.499999992999999, 6.618110229, 6.787401568, 7.066929127000001, 6.665354324, 7.011811016, 7.062992119, 7.287401567000001, 7.3818897560000005, 7.7598425120000005, 7.740157472000001, 7.74409448, 7.9173228270000005, 7.996062984, 8.350393692, 8.586614164, 8.901574794, 8.96456692, 9.326771643999999, 8.980314951]\n",
        "# Test 1 - year of highest level above 1880 level\n",
        "if find_highest_year(sea_levels) == 2012:\n",
        "  print(\"Test 1 passed\")\n",
        "else:\n",
        "  print(\"Test 1 failed\")"
      ],
      "execution_count": null,
      "outputs": [
        {
          "output_type": "stream",
          "text": [
            "Test 1 passed\n"
          ],
          "name": "stdout"
        }
      ]
    },
    {
      "cell_type": "markdown",
      "metadata": {
        "id": "pTUg4A9St8Us"
      },
      "source": [
        "---\n",
        "## Calculate the average rise in level per year and predict the rise above 1880 levels for a given year"
      ]
    },
    {
      "cell_type": "code",
      "metadata": {
        "id": "drX8yepludvY",
        "colab": {
          "base_uri": "https://localhost:8080/"
        },
        "outputId": "d31f8076-e77c-4782-94ba-99efc0c58cea"
      },
      "source": [
        "from datetime import datetime\n",
        "\n",
        "def predict_level(levels, year):\n",
        "  #  add your code below here to find the average rise per year and predict rise above 1880 for given year\n",
        "  #  if the year is before the current year, return -1\n",
        "  now = datetime.now()\n",
        "  if year < now.year:\n",
        "    return -1\n",
        "  total = 0\n",
        "  count = 0\n",
        "  difference = []\n",
        "  for i in range(1, len(levels)):\n",
        "      difference.append(levels[i] - levels[i-1]) \n",
        "  for j in difference:\n",
        "    total += j\n",
        "    count += 1 \n",
        "  average = total/count\n",
        "  prediction = (year - 1880)*(average)\n",
        "  return prediction\n",
        "\n",
        "\n",
        "\n",
        "# Tests\n",
        "sea_levels = [0.0, 0.22047244100000002, -0.440944881, -0.232283464, 0.590551181, 0.531496062, 0.43700787399999996, 0.216535433, 0.299212598, 0.362204724, 0.440944881, 0.374015748, 0.499999999, 0.6850393690000001, 0.303149606, 0.767716535, 0.46850393700000004, 0.6732283459999999, 1.043307086, 1.338582676, 1.125984251, 1.1102362190000001, 1.291338581, 1.6062992109999998, 1.2007874, 0.9842519679999999, 1.251968503, 1.196850392, 1.098425196, 1.27559055, 1.2716535420000001, 1.598425195, 1.476377951, 1.5472440930000002, 1.795275589, 2.10629921, 2.031496061, 1.854330707, 1.791338581, 1.854330707, 1.905511809, 1.988188974, 1.952755904, 1.999999998, 1.7125984230000002, 1.791338581, 2.0472440919999997, 2.003937006, 1.850393699, 1.905511809, 2.062992124, 2.0472440919999997, 2.271653541, 2.440944879, 2.228346454, 2.448818895, 2.295275588, 2.519685037, 2.6220472409999998, 2.826771651, 2.618110234, 3.098425194, 3.098425194, 3.098425194, 2.84645669, 2.95669291, 3.2519685010000003, 3.374015745, 3.562992122, 3.51181102, 3.598425193, 3.9724409410000003, 3.8700787360000004, 4.043307082, 3.929133854, 3.964566925, 3.763779524, 4.291338578, 4.346456688, 4.358267712, 4.503937003, 4.748031491, 4.543307082, 4.480314956, 4.1692913339999995, 4.6102362160000006, 4.397637791, 4.452755901000001, 4.484251963999999, 4.751968499, 4.67716535, 4.881889759, 5.240157475, 5.003937003, 5.472440939, 5.409448812999999, 5.370078735, 5.303149601, 5.555118105, 5.362204719, 5.5984251910000005, 6.0866141670000005, 5.858267711, 6.188976372000001, 6.153543301, 5.74803149, 5.771653537000001, 5.795275585, 5.980314955, 6.157480308999999, 6.2322834579999995, 6.334645663, 6.35826771, 6.291338576, 6.499999992999999, 6.618110229, 6.787401568, 7.066929127000001, 6.665354324, 7.011811016, 7.062992119, 7.287401567000001, 7.3818897560000005, 7.7598425120000005, 7.740157472000001, 7.74409448, 7.9173228270000005, 7.996062984, 8.350393692, 8.586614164, 8.901574794, 8.96456692, 9.326771643999999, 8.980314951]\n",
        "# Test 1 - prediction for 2021\n",
        "if predict_level(sea_levels, 2021) == 9.520484271360901:\n",
        "  print(\"Test 1 passed\")\n",
        "else:\n",
        "  print(\"Test 1 failed\")\n",
        "# Test 2 - prediction for 2050\n",
        "if predict_level(sea_levels, 2050) == 11.478598057669172:\n",
        "  print(\"Test 2 passed\")\n",
        "else:\n",
        "  print(\"Test 2 failed\")\n",
        "# Test 3 - prediction for 2005\n",
        "if predict_level(sea_levels,2005) == -1:\n",
        "  print(\"Test 3 passed\")\n",
        "else:\n",
        "  print(\"Test 3 failed\")"
      ],
      "execution_count": null,
      "outputs": [
        {
          "output_type": "stream",
          "text": [
            "Test 1 passed\n",
            "Test 2 passed\n",
            "Test 3 passed\n"
          ],
          "name": "stdout"
        }
      ]
    },
    {
      "cell_type": "markdown",
      "metadata": {
        "id": "BNKhigrKxcEy"
      },
      "source": [
        "---\n",
        "## Return a set of data items in a dictionary\n",
        "\n",
        "Create a dictionary called sea_level_data to return the identified set of data altogether:\n",
        "\n",
        "\n",
        "```\n",
        "sea_level_data = {\n",
        "  'largest rise': 0,  \n",
        "  'smallest rise': 0,  \n",
        "  'number of falling years': 0,  \n",
        "  'number of rising years': 0,  \n",
        "  'highest year': 0,  \n",
        "  'predicted level in 2030': 0  \n",
        "}\n",
        "```\n",
        "\n",
        "\n",
        "\n",
        "\n"
      ]
    },
    {
      "cell_type": "code",
      "metadata": {
        "id": "cEn4nBvvyOln",
        "colab": {
          "base_uri": "https://localhost:8080/"
        },
        "outputId": "1be5dd64-f955-446d-a80d-8d7fef94ee49"
      },
      "source": [
        "def create_data_set(levels):\n",
        "  #  add your code below here to create the data set as described above\n",
        "  #  use functions you have already written where they exist and look for easy ways to get other data\n",
        "\n",
        "  sea_level_data = {\n",
        "    'largest rise': 0,  \n",
        "    'smallest rise': 0,  \n",
        "    'number of falling years': 0,  \n",
        "    'number of rising years': 0,  \n",
        "    'highest year': 0,  \n",
        "    'predicted level in 2030': 0  \n",
        "  }\n",
        "  sea_level_data['largest rise'] = get_largest_change(levels)\n",
        "  sea_level_data['smallest rise'] = get_smallest_change(levels)\n",
        "  sea_level_data['number of falling years'] = find_total_fall_years(levels)\n",
        "  sea_level_data['number of rising years'] = rise_years(levels)\n",
        "  sea_level_data['highest year'] = find_highest_year(levels)\n",
        "  sea_level_data['predicted level in 2030'] = predict_level(levels, 2030)\n",
        "\n",
        "  return sea_level_data\n",
        "\n",
        "# Tests:\n",
        "sea_levels = [0.0, 0.22047244100000002, -0.440944881, -0.232283464, 0.590551181, 0.531496062, 0.43700787399999996, 0.216535433, 0.299212598, 0.362204724, 0.440944881, 0.374015748, 0.499999999, 0.6850393690000001, 0.303149606, 0.767716535, 0.46850393700000004, 0.6732283459999999, 1.043307086, 1.338582676, 1.125984251, 1.1102362190000001, 1.291338581, 1.6062992109999998, 1.2007874, 0.9842519679999999, 1.251968503, 1.196850392, 1.098425196, 1.27559055, 1.2716535420000001, 1.598425195, 1.476377951, 1.5472440930000002, 1.795275589, 2.10629921, 2.031496061, 1.854330707, 1.791338581, 1.854330707, 1.905511809, 1.988188974, 1.952755904, 1.999999998, 1.7125984230000002, 1.791338581, 2.0472440919999997, 2.003937006, 1.850393699, 1.905511809, 2.062992124, 2.0472440919999997, 2.271653541, 2.440944879, 2.228346454, 2.448818895, 2.295275588, 2.519685037, 2.6220472409999998, 2.826771651, 2.618110234, 3.098425194, 3.098425194, 3.098425194, 2.84645669, 2.95669291, 3.2519685010000003, 3.374015745, 3.562992122, 3.51181102, 3.598425193, 3.9724409410000003, 3.8700787360000004, 4.043307082, 3.929133854, 3.964566925, 3.763779524, 4.291338578, 4.346456688, 4.358267712, 4.503937003, 4.748031491, 4.543307082, 4.480314956, 4.1692913339999995, 4.6102362160000006, 4.397637791, 4.452755901000001, 4.484251963999999, 4.751968499, 4.67716535, 4.881889759, 5.240157475, 5.003937003, 5.472440939, 5.409448812999999, 5.370078735, 5.303149601, 5.555118105, 5.362204719, 5.5984251910000005, 6.0866141670000005, 5.858267711, 6.188976372000001, 6.153543301, 5.74803149, 5.771653537000001, 5.795275585, 5.980314955, 6.157480308999999, 6.2322834579999995, 6.334645663, 6.35826771, 6.291338576, 6.499999992999999, 6.618110229, 6.787401568, 7.066929127000001, 6.665354324, 7.011811016, 7.062992119, 7.287401567000001, 7.3818897560000005, 7.7598425120000005, 7.740157472000001, 7.74409448, 7.9173228270000005, 7.996062984, 8.350393692, 8.586614164, 8.901574794, 8.96456692, 9.326771643999999, 8.980314951]\n",
        "# Test 1 - data set\n",
        "if create_data_set(sea_levels) == {'largest rise': 0.822834645, 'smallest rise': -0.661417322, 'number of falling years': 48, 'number of rising years': 86,'highest year': 2012,'predicted level in 2030': 10.128174756766917}:\n",
        "  print(\"Test 1 passed\")\n",
        "else:\n",
        "  print(\"Test 1 failed\")"
      ],
      "execution_count": null,
      "outputs": [
        {
          "output_type": "stream",
          "text": [
            "85\n",
            "Test 1 failed\n"
          ],
          "name": "stdout"
        }
      ]
    }
  ]
}
