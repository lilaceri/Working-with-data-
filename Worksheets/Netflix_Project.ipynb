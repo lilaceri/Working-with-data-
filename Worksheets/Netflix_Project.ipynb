{
  "nbformat": 4,
  "nbformat_minor": 0,
  "metadata": {
    "colab": {
      "name": "Netflix Project.ipynb",
      "provenance": [],
      "authorship_tag": "ABX9TyPlGjQtUrZcV3rL3jumGE/l",
      "include_colab_link": true
    },
    "kernelspec": {
      "name": "python3",
      "display_name": "Python 3"
    },
    "language_info": {
      "name": "python"
    }
  },
  "cells": [
    {
      "cell_type": "markdown",
      "metadata": {
        "id": "view-in-github",
        "colab_type": "text"
      },
      "source": [
        "<a href=\"https://colab.research.google.com/github/lilaceri/Working-with-data-/blob/main/Worksheets/Netflix_Project.ipynb\" target=\"_parent\"><img src=\"https://colab.research.google.com/assets/colab-badge.svg\" alt=\"Open In Colab\"/></a>"
      ]
    },
    {
      "cell_type": "markdown",
      "source": [
        "### Netflix Data Project\n",
        "---\n",
        "\n",
        "Data is available here: \"https://raw.githubusercontent.com/lilaceri/Working-with-data-/main/Data%20Sets%20for%20code%20divisio/netflix_data.csv\" \n",
        "\n",
        "The above dataset contains records of a family's netflix viewing history. As a team, your task is to write a program that will let the user get information about their netflix viewing history by selecting options from a menu. \n",
        "\n",
        "The menu will contain 7 options:\n",
        "\n",
        "1. The most watched tv show and most watched film, duration spent watching each and the year each was watched the most times. \n",
        "2. a bar chart that tells us how much netflix was watched in each year\n",
        "3. Top 10 most viewed tv shows and films, how many times each of the top 10 was watched and 2 bar charts to display the data\n",
        "4. Stacked bar chart which shows the time each different user spent watching tv vs film\n",
        "5. Stacked bar chart showing how much time each user spent watching netflix in the different countries and a pie chart showing proportion by country for all users\n",
        "6. Total time spent watching netflix for each user, the user who watched the most netflix, the user who watched the most tv and the user who watched the most film\n",
        "7. Quit program \n",
        "\n",
        "\n",
        "The menu function should ask the user to enter a value to view a menu option each time unless they put 7 in which case the program should end.\n",
        "\n",
        "You will need to make a function for each menu item (except 7) and then the function **display_menu()** should ask a user which item they would like to see and display the different menu items by calling the different menu functions. \n",
        "\n",
        "\n",
        "You are welcome to add further menu items by creating more functions but must tell the team member creating the display_menu() function to include it. "
      ],
      "metadata": {
        "id": "JnS9TmOH4Pny"
      }
    },
    {
      "cell_type": "markdown",
      "source": [
        "### Hints:\n",
        "\n",
        "* Check the datatypes of columns and convert columns which are the incorrect datatype\n",
        "* We want to focus on the data of actual tv/film watched - all the values in the `Supplimental Video Type` column which are **not** NaN are not actual tv/film but trailers etc - your data will therefore need to be cleaned"
      ],
      "metadata": {
        "id": "-aVhuDQ0S5XG"
      }
    },
    {
      "cell_type": "code",
      "source": [
        "def display_menu():\n",
        "\n",
        "\n",
        "\n",
        "\n",
        "  "
      ],
      "metadata": {
        "id": "42HGtLk2S4nu"
      },
      "execution_count": null,
      "outputs": []
    }
  ]
}