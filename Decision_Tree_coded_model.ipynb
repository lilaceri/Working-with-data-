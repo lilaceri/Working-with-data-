{
  "nbformat": 4,
  "nbformat_minor": 0,
  "metadata": {
    "colab": {
      "name": "Decision-Tree-coded-model.ipynb",
      "provenance": [],
      "collapsed_sections": [],
      "include_colab_link": true
    },
    "kernelspec": {
      "display_name": "Python 3",
      "language": "python",
      "name": "python3"
    },
    "language_info": {
      "codemirror_mode": {
        "name": "ipython",
        "version": 3
      },
      "file_extension": ".py",
      "mimetype": "text/x-python",
      "name": "python",
      "nbconvert_exporter": "python",
      "pygments_lexer": "ipython3",
      "version": "3.8.5"
    }
  },
  "cells": [
    {
      "cell_type": "markdown",
      "metadata": {
        "id": "view-in-github",
        "colab_type": "text"
      },
      "source": [
        "<a href=\"https://colab.research.google.com/github/lilaceri/Working-with-data-/blob/main/Decision_Tree_coded_model.ipynb\" target=\"_parent\"><img src=\"https://colab.research.google.com/assets/colab-badge.svg\" alt=\"Open In Colab\"/></a>"
      ]
    },
    {
      "cell_type": "markdown",
      "metadata": {
        "id": "9HyLZK84N75s"
      },
      "source": [
        "# Coding a simple decision tree\n",
        "---\n",
        "\n",
        "In this worksheet we are going to work with a data set, using the idea of a decision tree class.  We are going to simplify the model and use Python code to make a simple decision tree classification model.  We will do this for two reasons:\n",
        "*   writing the code is often good for helping to understand what is going on under the bonnet of a library function\n",
        "*   it is a good coding exercise for practice as it mostly depends on calculations and if..elif..else statements\n",
        "\n",
        "In this worksheet we are going to code a decision tree which will use the calculated probabilities to make decisions about whether a row of given data would be classified as Iris-virginica, or not, based on sepal and petal dimensions.  It is easier to classify between two values (Iris-virginica or not).  Later, using this information, species would be further predicted by probabilities of error.\n",
        "\n",
        "![Iris-petals and sepals](https://www.math.umd.edu/~petersd/666/html/iris_with_labels.jpg)\n",
        "\n",
        "The workflow is:\n",
        "*  divide the data set into 70% of the rows for training and 30% for testing  (we can increase the size of the train set later)\n",
        "*  find the median for each of the 4 size columns\n",
        "*  calculate the proportion of each column that are on or above median that are of a species (ie proportion of petal-lengths on or above median that are Iris-virginica)\n",
        "*  infer the proportion of each that are not of that species (using 1 - proportion above).  In both cases we are looking to find if either of these is 1, which could be infered as definitely not that species. \n",
        "*  calculate a Gini Index that will indicate the probability that a prediction will be incorrect\n",
        "*  use the results of the Gini Index to model a decision tree\n",
        "*  code the decision tree model into a function that will return whether or not a row in the test set is predicted to be of species Iris-virginica\n",
        "*  use the decision tree function to predict, for each row in the test set, if the species will be Iris-virginicia or not, using a set of nested if statements to classify\n",
        "*  compare the predicted values against the actual values in the test set - what proportion were predicted correctly?\n"
      ]
    },
    {
      "cell_type": "markdown",
      "metadata": {
        "id": "4iR8g8h_Ol0j"
      },
      "source": [
        "### Exercise 1 - investigate the iris data set\n",
        "---\n",
        "Let's start by looking at the data.  We are going to use a data set that contains data on iris flowers.\n",
        "\n",
        "Read the data at this location: https://raw.githubusercontent.com/jbrownlee/Datasets/master/iris.csv into a dataframe called iris_data\n",
        "\n",
        "The columns in the CSV file do not have headings, when you read the file, add column headings like this:\n",
        "```\n",
        "url = \"https://raw.githubusercontent.com/jbrownlee/Datasets/master/iris.csv\"\n",
        "names = ['sepal-length', 'sepal-width', 'petal-length', 'petal-width', 'species']\n",
        "iris_data = pd.read_csv(url, names=names)\n",
        "```\n",
        "*  Take a look at the column info (how many columns, what type of data, any missing data?)\n",
        "*  Take a look at the data values in the first 10 and the last 10 records to get an idea of the type of values included\n",
        "*  Find out how many unique values there are in the species column\n",
        "*  Find out the maximum, minimum, median and upper and lower quartile values in each of the columns\n"
      ]
    },
    {
      "cell_type": "code",
      "metadata": {
        "id": "eGZuOLPYPgL5",
        "colab": {
          "base_uri": "https://localhost:8080/"
        },
        "outputId": "907a04c1-9eed-4af5-cc87-b638f492f7a2"
      },
      "source": [
        "import pandas as pd \n",
        "url = \"https://raw.githubusercontent.com/jbrownlee/Datasets/master/iris.csv\"\n",
        "names = ['sepal-length', 'sepal-width', 'petal-length', 'petal-width', 'species']\n",
        "iris_data = pd.read_csv(url, names=names)\n",
        "\n",
        "# iris_data.info()\n",
        "# iris_data.head(10)\n",
        "# iris_data.tail(10)\n",
        "iris_data['species'].unique()\n",
        "# max = iris_data.max()\n",
        "# min = iris_data.min()\n",
        "# med = iris_data.median()\n",
        "# upper = iris_data.quantile(0.75)\n",
        "# lower = iris_data.quantile(0.25)\n",
        "# print('max', max, 'min', min, 'med', med, 'upper', upper,'lower', lower)"
      ],
      "execution_count": 153,
      "outputs": [
        {
          "output_type": "execute_result",
          "data": {
            "text/plain": [
              "array(['Iris-setosa', 'Iris-versicolor', 'Iris-virginica'], dtype=object)"
            ]
          },
          "metadata": {
            "tags": []
          },
          "execution_count": 153
        }
      ]
    },
    {
      "cell_type": "markdown",
      "metadata": {
        "id": "0b8Pm0bK_Ca1"
      },
      "source": [
        "### Exercise 2 - split the data into train and test sets\n",
        "---\n",
        "\n",
        "Split the data set into and 70% train, 30% test, split.  Run the cell below. Add code to inspect the `train` data set.\n"
      ]
    },
    {
      "cell_type": "code",
      "metadata": {
        "id": "CSG-ZEPEawMJ",
        "colab": {
          "base_uri": "https://localhost:8080/"
        },
        "outputId": "50d5d7b5-fa8a-460a-9fb7-bc79a8584e83"
      },
      "source": [
        "# import the train_test_split function\n",
        "from sklearn.model_selection import train_test_split\n",
        "\n",
        "# create the classification variables from the all columns\n",
        "train, test = train_test_split(iris_data, test_size=0.30, random_state=1)\n",
        "\n",
        "test.info()"
      ],
      "execution_count": 154,
      "outputs": [
        {
          "output_type": "stream",
          "text": [
            "<class 'pandas.core.frame.DataFrame'>\n",
            "Int64Index: 45 entries, 14 to 58\n",
            "Data columns (total 5 columns):\n",
            " #   Column        Non-Null Count  Dtype  \n",
            "---  ------        --------------  -----  \n",
            " 0   sepal-length  45 non-null     float64\n",
            " 1   sepal-width   45 non-null     float64\n",
            " 2   petal-length  45 non-null     float64\n",
            " 3   petal-width   45 non-null     float64\n",
            " 4   species       45 non-null     object \n",
            "dtypes: float64(4), object(1)\n",
            "memory usage: 2.1+ KB\n"
          ],
          "name": "stdout"
        }
      ]
    },
    {
      "cell_type": "markdown",
      "metadata": {
        "id": "nd-9JfKbQl-q"
      },
      "source": [
        "### Exercise 3 - assumptions\n",
        "---\n",
        "\n",
        "Let's make some assumptions based on the data\n",
        "\n",
        "1.  Iris-setosa, Iris-versicolor, Iris-virginica are the full range of types of iris to be analysed\n",
        "2.  Although this is a small data set, the medians are fairly representative\n",
        "\n",
        "With these in mind, let's start by classifying sepal/petal size into long/short and wide/narrow with values on or above the median taken as long or wide and those below as short or narrow.\n",
        "\n",
        "This is a starting point.  We will be trying to find a value (indicator) for each column where rows on or above do not contain any of a particular species, this might indicate that this column is a good (if not rough) indicator of species.\n",
        "\n",
        "Calculate, and store the medians of the four columns\n",
        "\n",
        "**Test**:\n",
        "Display train.describe() to see the value of the medians of the training set\n",
        "Print the four medians and compare to the output of train.describe() to check that they have been calculated correctly"
      ]
    },
    {
      "cell_type": "code",
      "metadata": {
        "id": "rAahb5HSWiw-",
        "colab": {
          "base_uri": "https://localhost:8080/",
          "height": 314
        },
        "outputId": "ac31f3a5-2a3b-4aea-d502-d75a81be6df2"
      },
      "source": [
        "sl_indicator = iris_data['sepal-length'].quantile(.1)\n",
        "sw_indicator = iris_data['sepal-width'].quantile(.05)\n",
        "pl_indicator = iris_data['petal-length'].quantile(.1)\n",
        "pw_indicator = iris_data['petal-width'].quantile(.1)\n",
        "\n",
        "print(sl_indicator, sw_indicator, pl_indicator, pw_indicator)\n",
        "display(train.describe())"
      ],
      "execution_count": 155,
      "outputs": [
        {
          "output_type": "stream",
          "text": [
            "4.8 2.3449999999999998 1.4 0.2\n"
          ],
          "name": "stdout"
        },
        {
          "output_type": "display_data",
          "data": {
            "text/html": [
              "<div>\n",
              "<style scoped>\n",
              "    .dataframe tbody tr th:only-of-type {\n",
              "        vertical-align: middle;\n",
              "    }\n",
              "\n",
              "    .dataframe tbody tr th {\n",
              "        vertical-align: top;\n",
              "    }\n",
              "\n",
              "    .dataframe thead th {\n",
              "        text-align: right;\n",
              "    }\n",
              "</style>\n",
              "<table border=\"1\" class=\"dataframe\">\n",
              "  <thead>\n",
              "    <tr style=\"text-align: right;\">\n",
              "      <th></th>\n",
              "      <th>sepal-length</th>\n",
              "      <th>sepal-width</th>\n",
              "      <th>petal-length</th>\n",
              "      <th>petal-width</th>\n",
              "    </tr>\n",
              "  </thead>\n",
              "  <tbody>\n",
              "    <tr>\n",
              "      <th>count</th>\n",
              "      <td>105.000000</td>\n",
              "      <td>105.000000</td>\n",
              "      <td>105.000000</td>\n",
              "      <td>105.000000</td>\n",
              "    </tr>\n",
              "    <tr>\n",
              "      <th>mean</th>\n",
              "      <td>5.800000</td>\n",
              "      <td>3.033333</td>\n",
              "      <td>3.739048</td>\n",
              "      <td>1.189524</td>\n",
              "    </tr>\n",
              "    <tr>\n",
              "      <th>std</th>\n",
              "      <td>0.844553</td>\n",
              "      <td>0.415254</td>\n",
              "      <td>1.787429</td>\n",
              "      <td>0.784333</td>\n",
              "    </tr>\n",
              "    <tr>\n",
              "      <th>min</th>\n",
              "      <td>4.300000</td>\n",
              "      <td>2.000000</td>\n",
              "      <td>1.000000</td>\n",
              "      <td>0.100000</td>\n",
              "    </tr>\n",
              "    <tr>\n",
              "      <th>25%</th>\n",
              "      <td>5.000000</td>\n",
              "      <td>2.800000</td>\n",
              "      <td>1.600000</td>\n",
              "      <td>0.200000</td>\n",
              "    </tr>\n",
              "    <tr>\n",
              "      <th>50%</th>\n",
              "      <td>5.800000</td>\n",
              "      <td>3.000000</td>\n",
              "      <td>4.200000</td>\n",
              "      <td>1.300000</td>\n",
              "    </tr>\n",
              "    <tr>\n",
              "      <th>75%</th>\n",
              "      <td>6.400000</td>\n",
              "      <td>3.300000</td>\n",
              "      <td>5.100000</td>\n",
              "      <td>1.800000</td>\n",
              "    </tr>\n",
              "    <tr>\n",
              "      <th>max</th>\n",
              "      <td>7.700000</td>\n",
              "      <td>4.400000</td>\n",
              "      <td>6.900000</td>\n",
              "      <td>2.500000</td>\n",
              "    </tr>\n",
              "  </tbody>\n",
              "</table>\n",
              "</div>"
            ],
            "text/plain": [
              "       sepal-length  sepal-width  petal-length  petal-width\n",
              "count    105.000000   105.000000    105.000000   105.000000\n",
              "mean       5.800000     3.033333      3.739048     1.189524\n",
              "std        0.844553     0.415254      1.787429     0.784333\n",
              "min        4.300000     2.000000      1.000000     0.100000\n",
              "25%        5.000000     2.800000      1.600000     0.200000\n",
              "50%        5.800000     3.000000      4.200000     1.300000\n",
              "75%        6.400000     3.300000      5.100000     1.800000\n",
              "max        7.700000     4.400000      6.900000     2.500000"
            ]
          },
          "metadata": {
            "tags": []
          }
        }
      ]
    },
    {
      "cell_type": "markdown",
      "metadata": {
        "id": "t9lP8lC1dCsa"
      },
      "source": [
        "### Exercise 4 - Calculate the proportion of values on or above the indicator that are of species `Iris-virginica`\n",
        "\n",
        "We are going to focus on the `Iris-virginica` species.\n",
        "\n",
        "First we will calculate, for each dimension column (`sepal-length, sepal-width, petal-length, petal-width`) what proportion of values in that column, where the value is on or above the median, are classified as `Iris-virginica`.\n",
        "\n",
        "We will do this by filtering all the records in each column of the the `train` set that are on or above the median and match the species .  Then use the outcome to calculate the proportion of the full `train` set for which a value on or above the median that are of species `Iris-virginica`.\n",
        "\n",
        "*  filter for values in the `sepal-length` column being on or above the median (`sl_indicator`) and the species column being `Iris-virginica`.  Then divide the count of rows in this filtered dataset by the count of rows in a second data set, filtered for just the value being on or above the median.\n",
        "\n",
        "*  Do this for all four columns, for `Iris-virginica`  (4 operations).\n",
        "\n",
        "Print the results to see which columns look like they might predict the species as `Iris-virginica` (the result is 1).  The highest numbers may be the most, but we will do some more before coming to this conclusion.\n",
        "\n",
        "*  By definition, those on or above the median that are NOT Iris_virginica will be `1 - the proportion of those that are.  Calculate these\n",
        "\n",
        "The first one has been done for you.\n",
        "\n",
        "*  We will also need the proportion of those BELOW the median that are NOT Iris-virginica.  Calculate these in the same way\n",
        "\n"
      ]
    },
    {
      "cell_type": "code",
      "metadata": {
        "id": "W9mzsFwbyruW",
        "colab": {
          "base_uri": "https://localhost:8080/"
        },
        "outputId": "509fdb05-b4e1-4adb-fbf5-9622391b983e"
      },
      "source": [
        "# calculate the proportion of results where the value is on or above median that are of the species Iris-virginica\n",
        "sl_vi_above = (train[(train['sepal-length'] >= sl_indicator) & (train['species'] == 'Iris-versicolor')]['sepal-length'].count()) / (train[train['sepal-length'] >= sl_indicator]['sepal-length'].count())\n",
        "sw_vi_above = (train[(train['sepal-width'] >= sw_indicator) & (train['species'] == 'Iris-versicolor')]['sepal-width'].count()) / (train[train['sepal-width'] >= sw_indicator]['sepal-width'].count())\n",
        "pl_vi_above = (train[(train['petal-length'] >= pl_indicator) & (train['species'] == 'Iris-versicolor')]['petal-length'].count()) / (train[train['petal-length'] >= pl_indicator]['petal-length'].count())\n",
        "pw_vi_above = (train[(train['petal-width'] >= pw_indicator) & (train['species'] == 'Iris-versicolor')]['petal-width'].count()) / (train[train['petal-width'] >= pw_indicator]['petal-width'].count())\n",
        "\n",
        "print(sl_vi_above, sw_vi_above, pl_vi_above, pw_vi_above)\n",
        "\n",
        "# calculate the proportion of results where the column is above median that are NOT of the species Iris-virginica\n",
        "\n",
        "no_sl_vi_above = (train[(train['sepal-length'] >= sl_indicator) & (train['species'] != 'Iris-versicolor')]['sepal-length'].count()) / (train[train['sepal-length'] >= sl_indicator]['sepal-length'].count())\n",
        "no_sw_vi_above = (train[(train['sepal-width'] >= sw_indicator) & (train['species'] != 'Iris-versicolor')]['sepal-width'].count()) / (train[train['sepal-width'] >= sw_indicator]['sepal-width'].count())\n",
        "no_pl_vi_above = (train[(train['petal-length'] >= pl_indicator) & (train['species'] != 'Iris-versicolor')]['petal-length'].count()) / (train[train['petal-length'] >= pl_indicator]['petal-length'].count())\n",
        "no_pw_vi_above = (train[(train['petal-width'] >= pw_indicator) & (train['species'] != 'Iris-versicolor')]['petal-width'].count()) / (train[train['petal-width'] >= pw_indicator]['petal-width'].count())\n",
        "\n",
        "print(no_sl_vi_above, no_sw_vi_above, no_pl_vi_above, no_pw_vi_above)"
      ],
      "execution_count": 156,
      "outputs": [
        {
          "output_type": "stream",
          "text": [
            "0.3333333333333333 0.2727272727272727 0.32323232323232326 0.32323232323232326\n",
            "0.6666666666666666 0.7272727272727273 0.6767676767676768 0.6767676767676768\n"
          ],
          "name": "stdout"
        }
      ]
    },
    {
      "cell_type": "markdown",
      "metadata": {
        "id": "M-HgetRIxJpx"
      },
      "source": [
        "### Exercise 5 - Calculate the proportion of each column where the value is below median that are of species `Iris-virginica`\n",
        "\n",
        "Repeat the code above, this time looking for values below the mean"
      ]
    },
    {
      "cell_type": "code",
      "metadata": {
        "id": "sMvl5HFuxpwS",
        "colab": {
          "base_uri": "https://localhost:8080/"
        },
        "outputId": "2b31ea52-ff91-4c8a-f142-44dcc37d3781"
      },
      "source": [
        "# calculate the proportion of results where the value is below median that are of the species Iris-virginica\n",
        "\n",
        "sl_vi_below = train[(train['sepal-length'] < sl_indicator) & (train['species'] == 'Iris-versicolor')]['sepal-length'].count() / train[train['sepal-length'] < sl_indicator]['sepal-length'].count()\n",
        "sw_vi_below = (train[(train['sepal-width'] < sw_indicator) & (train['species'] == 'Iris-versicolor')]['sepal-width'].count()) / (train[train['sepal-width'] < sw_indicator]['sepal-width'].count())\n",
        "pl_vi_below = (train[(train['petal-length'] < pl_indicator) & (train['species'] == 'Iris-versicolor')]['petal-length'].count()) / (train[train['petal-length'] < pl_indicator]['petal-length'].count())\n",
        "pw_vi_below = (train[(train['petal-width'] < pw_indicator) & (train['species'] == 'Iris-versicolor')]['petal-width'].count()) / (train[train['petal-width'] < pw_indicator]['petal-width'].count())\n",
        "\n",
        "\n",
        "print(sl_vi_below, sw_vi_below, pl_vi_below, pw_vi_below)\n",
        "\n",
        "# calculate the proportion of results where the column is below median that are NOT of the species Iris-virginica\n",
        "\n",
        "no_sl_vi_below = 1-sl_vi_below\n",
        "no_sw_vi_below = 1-sw_vi_below\n",
        "no_pl_vi_below = 1-pl_vi_below\n",
        "no_pw_vi_below = 1-pw_vi_below\n",
        "\n",
        "print(no_sl_vi_below, no_sw_vi_below, no_pl_vi_below, no_pw_vi_below)"
      ],
      "execution_count": 157,
      "outputs": [
        {
          "output_type": "stream",
          "text": [
            "0.0 0.8333333333333334 0.0 0.0\n",
            "1.0 0.16666666666666663 1.0 1.0\n"
          ],
          "name": "stdout"
        }
      ]
    },
    {
      "cell_type": "markdown",
      "metadata": {
        "id": "09zWalzsOZrt"
      },
      "source": [
        "### Exercise 5 - calculate Gini index for `Iris-virginica`\n",
        "---\n",
        "\n",
        "Each time you split the data set into `train` and `test`, you will get a slightly different mix and so your `train` data set will be slightly different.  We are going to try to look at how well we might predict a particular species from the 3 columns.   Let's use the `Iris-virginica` species and try to predict if a row would be that species or not, based on the four dimensions columns.\n",
        "\n",
        "A Gini Index is a measure of the probability of a randomly chosen prediction being incorrect.  The most influential column will have the lowest Gini Index and that will be put at the top of our decision tree.\n",
        "\n",
        "The formula for the Gini Index is:\n",
        "\n",
        "*Gini Index = 1 - (the sum of the squares of the proportion values calculated above)*\n",
        "\n",
        "To calculate the Gini Index for , use the following example:\n",
        "\n",
        "`gini_sl_vi = 1 - (sl_vi_above**2 + no_sl_vi_above**2)`\n",
        "\n",
        "The first one has been done for you.\n",
        "\n",
        "\n",
        "\n",
        "\n"
      ]
    },
    {
      "cell_type": "code",
      "metadata": {
        "colab": {
          "base_uri": "https://localhost:8080/"
        },
        "id": "JYL8B3HhmKAy",
        "outputId": "55664729-5d88-4ef5-da95-aed104acd204"
      },
      "source": [
        "# calculate the Gini Index for the proportion of those below median which are Iris_virginica, for all four columns\n",
        "\n",
        "gini_sl_vi_above = 1 - (sl_vi_above**2 + no_sl_vi_above**2)\n",
        "gini_sw_vi_above = 1 - (sw_vi_above**2 + no_sw_vi_above**2)\n",
        "gini_pl_vi_above = 1 - (pl_vi_above**2 + no_pl_vi_above**2)\n",
        "gini_pw_vi_above = 1 - (pw_vi_above**2 + no_pw_vi_above**2)\n",
        "\n",
        "print(gini_sl_vi_above, gini_sw_vi_above, gini_pl_vi_above, gini_pw_vi_above)\n",
        "\n",
        "# calculate the Gini Index for the proportion of those below median which are Iris_virginica, for all four columns\n",
        "\n",
        "gini_sl_vi_below = 1 - (sl_vi_below**2 + no_sl_vi_below**2)\n",
        "gini_sw_vi_below = 1 - (sw_vi_below**2 + no_sw_vi_below**2)\n",
        "gini_pl_vi_below = 1 - (pl_vi_below**2 + no_pl_vi_below**2)\n",
        "gini_pw_vi_below = 1 - (pw_vi_below**2 + no_pw_vi_below**2)\n",
        "\n",
        "print(gini_sl_vi_below, gini_sw_vi_below, gini_pl_vi_below, gini_pw_vi_below)\n"
      ],
      "execution_count": 158,
      "outputs": [
        {
          "output_type": "stream",
          "text": [
            "0.4444444444444444 0.39669421487603307 0.43750637690031624 0.43750637690031624\n",
            "0.0 0.2777777777777777 0.0 0.0\n"
          ],
          "name": "stdout"
        }
      ]
    },
    {
      "cell_type": "markdown",
      "metadata": {
        "id": "5Ix6Hh0Uy9MS"
      },
      "source": [
        "### Exercise 6 - add weights to the index\n",
        "---\n",
        "\n",
        "Lastly, we are going to weight the calculation by applying the proportion of those that are and aren't `Iris_virginica`  \n",
        "\n",
        "This is the calculation for the sepal-length column:\n",
        "1.  Use the proportion of values in **whole sepal-length column** that are on or above median:  \n",
        "`sl_vi_above_indicator = train[train['sepal-length'] >= sl_indicator]['sepal-length'].count() / train['sepal-length'].count()`\n",
        "\n",
        "2.  Do the same to calculate the proportion of values below the median\n",
        "\n",
        "3.  Calculate weightings using the formula:  \n",
        "`weighted_gini_sl_vi = sl_vi_above_indicator * gini_sl_vi_above + sl_vi_below_indicator * gini_sl_vi_below`\n",
        "\n",
        "Do this for each of the four columns"
      ]
    },
    {
      "cell_type": "code",
      "metadata": {
        "id": "FPvXa8x81re7",
        "colab": {
          "base_uri": "https://localhost:8080/"
        },
        "outputId": "2635ef47-221a-4a7a-f626-d4656ab1b64e"
      },
      "source": [
        "# calculate the proportion of values in sepal-length column that are on or above mean, then calculate the weighted Gini Index\n",
        "\n",
        "sl_vi_above_indicator = train[train['sepal-length'] >= sl_indicator]['sepal-length'].count() / train['sepal-length'].count()\n",
        "sl_vi_below_indicator = train[train['sepal-length'] < sl_indicator]['sepal-length'].count() / train['sepal-length'].count()\n",
        "weighted_gini_sl_vi = sl_vi_above_indicator * gini_sl_vi_above + sl_vi_below_indicator * gini_sl_vi_below\n",
        "print(weighted_gini_sl_vi)\n",
        "\n",
        "# calculate the weighted Gini Index for sepal-width\n",
        "\n",
        "sw_vi_above_indicator = train[train['sepal-width'] >= sw_indicator]['sepal-width'].count() / train['sepal-width'].count()\n",
        "sw_vi_below_indicator = train[train['sepal-width'] < sw_indicator]['sepal-width'].count() / train['sepal-width'].count()\n",
        "weighted_gini_sw_vi = sw_vi_above_indicator * gini_sw_vi_above + sw_vi_below_indicator * gini_sw_vi_below\n",
        "print(weighted_gini_sw_vi)\n",
        "\n",
        "# calculate the weighted Gini Index for petal_length\n",
        "\n",
        "pl_vi_above_indicator = train[train['petal-length'] >= pl_indicator]['petal-length'].count() / train['petal-length'].count()\n",
        "pl_vi_below_indicator = train[train['petal-length'] < pl_indicator]['petal-length'].count() / train['petal-length'].count()\n",
        "weighted_gini_pl_vi = pl_vi_above_indicator * gini_pl_vi_above + pl_vi_below_indicator * gini_pl_vi_below\n",
        "print(weighted_gini_pl_vi)\n",
        "\n",
        "# calculate the weighted Gini Index for petal-width\n",
        "\n",
        "pw_vi_above_indicator = train[train['petal-width'] >= pw_indicator]['petal-width'].count() / train['petal-width'].count()\n",
        "pw_vi_below_indicator = train[train['petal-width'] < pw_indicator]['petal-width'].count() / train['petal-width'].count()\n",
        "weighted_gini_pw_vi = pw_vi_above_indicator * gini_pw_vi_above + pw_vi_below_indicator * gini_pw_vi_below\n",
        "print(weighted_gini_pw_vi)"
      ],
      "execution_count": 159,
      "outputs": [
        {
          "output_type": "stream",
          "text": [
            "0.4063492063492063\n",
            "0.3898989898989899\n",
            "0.41250601250601243\n",
            "0.41250601250601243\n"
          ],
          "name": "stdout"
        }
      ]
    },
    {
      "cell_type": "markdown",
      "metadata": {
        "id": "ws2TxeRrnIJ4"
      },
      "source": [
        "### Exercise 6 - Make a decision tree\n",
        "---\n",
        "\n",
        "Use pencil and paper or a graphical application to create a decision tree using the following rules (**use the picture below as a guide only - yours will be different**):\n",
        "\n",
        "*  the column with a 0.0 initial Gini Index and the lowest weighted Gini Index is placed at the top\n",
        "*  other columns with a 0.0 initial Gini Index are placed in order below\n",
        "*  the rest of the columns are placed in order below these\n",
        "\n",
        "Any column where one branch (on or above median OR below median) has an initial Gini Index of 0, could be classified as a strong indicator of Iris_virginica being the species.  Anything else doesn't have enough certainty.\n",
        "\n",
        "Let's code the decision tree using the following logic for this decision tree (yours might be slightly different):\n",
        "\n",
        "![Decision tree](https://drive.google.com/uc?id=1CTo23EHwR2IPCRjcfSyCQsT_oQ5Exwso)\n",
        "\n",
        "In the decision tree above, there is no certainty below petal-length so our decision tree will only include petal-width and petal-length.\n",
        "\n",
        "\n"
      ]
    },
    {
      "cell_type": "code",
      "metadata": {
        "id": "tkCCL0ERDife",
        "colab": {
          "base_uri": "https://localhost:8080/"
        },
        "outputId": "e56232e9-d8ed-4a11-84b4-1ecaf2a7caff"
      },
      "source": [
        "def predict_species(df):\n",
        "  # ADD CODE HERE TO RETURN None if petal-width is below pw_decision_line or if petal-length is below pl_decision_line, otherwise return 'Iris-virginia'\n",
        "  if df['petal-length'] >= pl_indicator:\n",
        "    if df['petal-width'] >= pw_indicator:\n",
        "      if df['sepal-length'] >= sl_indicator:\n",
        "        # if df['sepal-width'] >= sw_indicator:\n",
        "        return \"Iris-versicolor\"\n",
        "        # else:\n",
        "        #   return \"not Iris-versicolor\"\n",
        "      else:\n",
        "        return \"not Iris-versicolor\"\n",
        "    else:\n",
        "      return \"not Iris-versicolor\"\n",
        "  else:\n",
        "    return \"not Iris-versicolor\"\n",
        "\n",
        "# use the get_species(df) function to predict the species, count how many are predicted correct and use this to calculate the proportion correct\n",
        "correct = 0\n",
        "test_size = test.shape[0]\n",
        "for i in range(0, test_size):\n",
        "  species = predict_species(test.iloc[i])\n",
        "  if species == test.iloc[i]['species']:\n",
        "      correct += 1\n",
        "\n",
        "print (\"Proportion correctly identified\", correct / test_size) \n"
      ],
      "execution_count": 162,
      "outputs": [
        {
          "output_type": "stream",
          "text": [
            "Proportion correctly identified 0.4\n"
          ],
          "name": "stdout"
        }
      ]
    },
    {
      "cell_type": "markdown",
      "metadata": {
        "id": "3SXFCqSh97rt"
      },
      "source": [
        "### Exercise 7 - expand the training set\n",
        "---\n",
        "\n",
        "Let's make the training set a bit bigger so that there are more rows to use in the analysis.\n",
        "\n",
        "*  go back and change the train/test proportions to 80% and 20%\n",
        "*  save the notebook and run all the code cells again"
      ]
    },
    {
      "cell_type": "markdown",
      "metadata": {
        "id": "8XHGHT6u6QEd"
      },
      "source": [
        "# SUM UP what you have found out so far\n",
        "---\n",
        "write your summary here"
      ]
    },
    {
      "cell_type": "markdown",
      "metadata": {
        "id": "-2tQcT5ILtxl"
      },
      "source": [
        "### Exercise 8 - change the measure for sepal-length\n",
        "\n",
        "We are currently using the median to act as the indicator line for all 4 columns.  This is helping us to identify petal-length and petal-width as good indicators around the median.  We can use the decision tree with different indicators.\n",
        "\n",
        "Change the `sepal-length` indicator so that you are instead using the lower quartile.  The code should not need changing except for where you calculated the value for `sl_indicator`.\n",
        "\n",
        "Run all the code again.  Is the proportion of correct values better or worse this time?   Is the decision tree still appropriate?\n"
      ]
    },
    {
      "cell_type": "markdown",
      "metadata": {
        "id": "WimD4E5zNub1"
      },
      "source": [
        "WHAT DO YOU NOTICE? (write your answer here)\n",
        "---\n",
        "\n",
        "\n"
      ]
    },
    {
      "cell_type": "markdown",
      "metadata": {
        "id": "6WoHQeYLNyk8"
      },
      "source": [
        "### Exercise 9 - try different indicators for sepal-length\n",
        "---\n",
        "\n",
        "Do the same again trying different indicators.  If upper or lower quartiles don't help, try using another percentile (e.g. .quantile(0.2). Is it making any difference?  What indicators give the best looking results?"
      ]
    },
    {
      "cell_type": "markdown",
      "metadata": {
        "id": "-LvrZreh9oHF"
      },
      "source": [
        "WHAT DO YOU NOTICE? \n",
        "\n",
        "write your answer here\n",
        "\n"
      ]
    },
    {
      "cell_type": "markdown",
      "metadata": {
        "id": "8C69ns9VODh3"
      },
      "source": [
        "### Exercise 10 - try a different species\n",
        "\n",
        "Run the median test again for the Iris-versicolor species.  Again, try some different indicators.\n",
        "\n",
        "What are the results.  Record them in the text cell below:"
      ]
    },
    {
      "cell_type": "markdown",
      "metadata": {
        "id": "t3oXJbqlOU0P"
      },
      "source": [
        "RESULTS FOR Iris-versicolor\n",
        "---  \n",
        "write your findings here"
      ]
    },
    {
      "cell_type": "markdown",
      "metadata": {
        "id": "Co14Ws3gupwP"
      },
      "source": [
        "# New logic introduced in this worksheet:\n",
        "\n",
        "1.  Adding headings to a CSV if none currently exist\n",
        "2.  Splitting a data set into train and test sets"
      ]
    },
    {
      "cell_type": "markdown",
      "metadata": {
        "id": "yQyytEbnZ1lw"
      },
      "source": [
        "# Reflection\n",
        "----\n",
        "\n",
        "## What skills have you demonstrated in completing this notebook?"
      ]
    },
    {
      "cell_type": "markdown",
      "metadata": {
        "id": "M9IqO6KNbSUk"
      },
      "source": [
        "Your answer: "
      ]
    },
    {
      "cell_type": "markdown",
      "metadata": {
        "id": "Zgexd27sZ1ly"
      },
      "source": [
        "## What caused you the most difficulty?"
      ]
    },
    {
      "cell_type": "markdown",
      "metadata": {
        "id": "aDYmIIcEbT7x"
      },
      "source": [
        "Your answer: "
      ]
    }
  ]
}