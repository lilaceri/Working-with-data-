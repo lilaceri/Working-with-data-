{
  "nbformat": 4,
  "nbformat_minor": 0,
  "metadata": {
    "colab": {
      "name": "Page Views Project.ipynb",
      "provenance": [],
      "authorship_tag": "ABX9TyPENl4NHnwe6pceP76Fqg3Z",
      "include_colab_link": true
    },
    "kernelspec": {
      "name": "python3",
      "display_name": "Python 3"
    },
    "language_info": {
      "name": "python"
    }
  },
  "cells": [
    {
      "cell_type": "markdown",
      "metadata": {
        "id": "view-in-github",
        "colab_type": "text"
      },
      "source": [
        "<a href=\"https://colab.research.google.com/github/lilaceri/Working-with-data-/blob/main/Page_Views_Project.ipynb\" target=\"_parent\"><img src=\"https://colab.research.google.com/assets/colab-badge.svg\" alt=\"Open In Colab\"/></a>"
      ]
    },
    {
      "cell_type": "markdown",
      "metadata": {
        "id": "PbPj7T6rpfIM"
      },
      "source": [
        "### Assignment\n",
        "\n",
        "For this project you will visualize time series data using a line chart, bar chart, and box plots. You will use Pandas and Matplotlib to visualize a dataset containing the number of page views each day on the freeCodeCamp.org forum from 2016-05-09 to 2019-12-03. The data visualizations will help you understand the patterns in visits and identify yearly and monthly growth.\n",
        "\n",
        "Use the data to complete the following tasks:\n",
        "* Use Pandas to import the data from \"https://raw.githubusercontent.com/futureCodersSE/working-with-data/main/Data%20sets/page_views.csv\". \n",
        "* Convert date column to datetime type \n",
        "* create 3 new columns with the years, months and dates (use dt.year, dt.month, dt.day)\n",
        "* Set the index to the \"date\" column.\n",
        "* Clean the data by filtering out days when the page views were in the top 2.5% of the dataset or bottom 2.5% of the dataset.\n",
        "* Create a line plot to draw a line chart similar to \"examples/Figure_1.png\". The title should be \"Daily freeCodeCamp Forum Page Views 5/2016-12/2019\". The label on the x axis should be \"Date\" and the label on the y axis should be \"Page Views\".\n",
        "* Create a bar_plot function that draws a bar chart similar to \"examples/Figure_2.png\". It should show average daily page views for each month grouped by year. The legend should show month labels and have a title of \"Months\". On the chart, the label on the x axis should be \"Years\" and the label on the y axis should be \"Average Page Views\". - You will need to create a pivot table to do this\n",
        "* Find the mean of middle 30 records\n",
        "* create a bar chart of the page views in 2019\n",
        "* Perform a linear regression and create a line of best fit \n",
        "* Predict the page views in the year 2020 \n"
      ]
    },
    {
      "cell_type": "code",
      "metadata": {
        "id": "9xYOGWDZpeKg"
      },
      "source": [
        ""
      ],
      "execution_count": null,
      "outputs": []
    }
  ]
}
